{
 "cells": [
  {
   "cell_type": "markdown",
   "metadata": {},
   "source": [
    "# Notebook Initialisation"
   ]
  },
  {
   "cell_type": "code",
   "execution_count": 1,
   "metadata": {},
   "outputs": [
    {
     "name": "stdout",
     "output_type": "stream",
     "text": [
      "Enabling notebook extension jupyter-js-widgets/extension...\r\n",
      "      - Validating: \u001b[32mOK\u001b[0m\r\n"
     ]
    },
    {
     "data": {
      "text/html": [
       "\n",
       "    <script>\n",
       "    code_show=true; \n",
       "    function code_toggle() {\n",
       "        if (code_show){\n",
       "            $('div.input').show();\n",
       "        } else {\n",
       "            $('div.input').hide();\n",
       "        }\n",
       "        code_show = !code_show\n",
       "    } \n",
       "    $( document ).ready(code_toggle);\n",
       "    </script>\n",
       "    \n",
       "The raw code for this IPython notebook is by default hidden for easier reading.\n",
       "To toggle on/off the raw code, click <a href=\"javascript:code_toggle()\">here</a>."
      ],
      "text/plain": [
       "<IPython.core.display.HTML object>"
      ]
     },
     "execution_count": 1,
     "metadata": {},
     "output_type": "execute_result"
    }
   ],
   "source": [
    "from os import getcwd, pardir\n",
    "from os.path import join, abspath\n",
    "\n",
    "# ! pip install jupyter_nbextensions_configurator jupyter_contrib_nbextensions\n",
    "# ! jupyter contrib nbextension install\n",
    "# ! jupyter nbextension install --py fileupload \n",
    "# ! jupyter nbextension enable --py fileupload\n",
    "# ! jupyter nbextension install --py widgetsnbextension \n",
    "# ! jupyter nbextension enable --py widgetsnbextension\n",
    "# ! jupyter nbextensions_configurator enable\n",
    "# ! jupyter nbextension enable codefolding/main\n",
    "# ! jupyter nbextension enable toc2/main\n",
    "\n",
    "! jupyter nbextension enable --py --sys-prefix widgetsnbextension\n",
    "# init_notebook_mode(connected=True)\n",
    "\n",
    "## Get Root Directory\n",
    "rootDirectory = abspath(join(abspath(join(getcwd(), pardir)), pardir))\n",
    "\n",
    "# `do not disturb` mode\n",
    "import warnings                                  \n",
    "warnings.filterwarnings('ignore')\n",
    "\n",
    "## Create a button that hides cells\n",
    "from IPython.display import HTML\n",
    "\n",
    "HTML(\n",
    "    '''\n",
    "    <script>\n",
    "    code_show=true; \n",
    "    function code_toggle() {\n",
    "        if (code_show){\n",
    "            $('div.input').show();\n",
    "        } else {\n",
    "            $('div.input').hide();\n",
    "        }\n",
    "        code_show = !code_show\n",
    "    } \n",
    "    $( document ).ready(code_toggle);\n",
    "    </script>\n",
    "    \n",
    "The raw code for this IPython notebook is by default hidden for easier reading.\n",
    "To toggle on/off the raw code, click <a href=\"javascript:code_toggle()\">here</a>.''')"
   ]
  },
  {
   "cell_type": "markdown",
   "metadata": {},
   "source": [
    "# Data Load "
   ]
  },
  {
   "cell_type": "code",
   "execution_count": 6,
   "metadata": {},
   "outputs": [
    {
     "name": "stdout",
     "output_type": "stream",
     "text": [
      "------------------------------------------------------\n"
     ]
    },
    {
     "data": {
      "text/markdown": [
       "## Test Load"
      ],
      "text/plain": [
       "<IPython.core.display.Markdown object>"
      ]
     },
     "metadata": {},
     "output_type": "display_data"
    },
    {
     "data": {
      "text/markdown": [
       "Loading test **2018-07_INT_TEMP_CALIB_CASE_NIGHT_25degC** performed from 2018-07-21 to 2017-07-21"
      ],
      "text/plain": [
       "<IPython.core.display.Markdown object>"
      ]
     },
     "metadata": {},
     "output_type": "display_data"
    },
    {
     "data": {
      "text/markdown": [
       "Test performed with commit **0451aad9735d20c2a03f8e47b39796baba098e08**"
      ],
      "text/plain": [
       "<IPython.core.display.Markdown object>"
      ]
     },
     "metadata": {},
     "output_type": "display_data"
    },
    {
     "data": {
      "text/markdown": [
       "<hr />\n",
       "<p><strong>Comment:</strong> \n",
       "Temperature calibration test</p>\n",
       "<p>Reading Interval: 2s\n",
       "ON/OFF Sequence for mics: every 30min\n",
       "Number of sequences: 5\n",
       "ESP_ON time = 5s\n",
       "ESP_OFF time = 30s</p>\n",
       "<p>SCK in a case, SHT31 in open air.</p>"
      ],
      "text/plain": [
       "<IPython.core.display.Markdown object>"
      ]
     },
     "metadata": {},
     "output_type": "display_data"
    },
    {
     "data": {
      "text/markdown": [
       "### KIT"
      ],
      "text/plain": [
       "<IPython.core.display.Markdown object>"
      ]
     },
     "metadata": {},
     "output_type": "display_data"
    },
    {
     "data": {
      "text/markdown": [
       "#### CURRENT"
      ],
      "text/plain": [
       "<IPython.core.display.Markdown object>"
      ]
     },
     "metadata": {},
     "output_type": "display_data"
    },
    {
     "data": {
      "text/markdown": [
       "Kit **CURRENT** located **Europe/Madrid**"
      ],
      "text/plain": [
       "<IPython.core.display.Markdown object>"
      ]
     },
     "metadata": {},
     "output_type": "display_data"
    },
    {
     "data": {
      "text/markdown": [
       "Kit **CURRENT** has been loaded"
      ],
      "text/plain": [
       "<IPython.core.display.Markdown object>"
      ]
     },
     "metadata": {},
     "output_type": "display_data"
    },
    {
     "data": {
      "text/markdown": [
       "#### TEMPERATURE"
      ],
      "text/plain": [
       "<IPython.core.display.Markdown object>"
      ]
     },
     "metadata": {},
     "output_type": "display_data"
    },
    {
     "data": {
      "text/markdown": [
       "Kit **TEMPERATURE** located **Europe/Madrid**"
      ],
      "text/plain": [
       "<IPython.core.display.Markdown object>"
      ]
     },
     "metadata": {},
     "output_type": "display_data"
    },
    {
     "data": {
      "text/markdown": [
       "Kit **TEMPERATURE** has been loaded"
      ],
      "text/plain": [
       "<IPython.core.display.Markdown object>"
      ]
     },
     "metadata": {},
     "output_type": "display_data"
    },
    {
     "name": "stdout",
     "output_type": "stream",
     "text": [
      "------------------------------------------------------\n",
      "------------------------------------------------------\n"
     ]
    },
    {
     "data": {
      "text/markdown": [
       "## Test Load"
      ],
      "text/plain": [
       "<IPython.core.display.Markdown object>"
      ]
     },
     "metadata": {},
     "output_type": "display_data"
    },
    {
     "data": {
      "text/markdown": [
       "Loading test **2018-07_INT_TEMP_CALIB_30degC** performed from 2018-07-17 to 2017-07-17"
      ],
      "text/plain": [
       "<IPython.core.display.Markdown object>"
      ]
     },
     "metadata": {},
     "output_type": "display_data"
    },
    {
     "data": {
      "text/markdown": [
       "Test performed with commit **0451aad9735d20c2a03f8e47b39796baba098e08**"
      ],
      "text/plain": [
       "<IPython.core.display.Markdown object>"
      ]
     },
     "metadata": {},
     "output_type": "display_data"
    },
    {
     "data": {
      "text/markdown": [
       "<hr />\n",
       "<p><strong>Comment:</strong> \n",
       "Temperature calibration test</p>\n",
       "<p>Reading Interval: 2s\n",
       "ON/OFF Sequence for mics: every 20min\n",
       "Number of sequences: 5\n",
       "ESP_ON time = 5s\n",
       "ESP_OFF time = 30s</p>"
      ],
      "text/plain": [
       "<IPython.core.display.Markdown object>"
      ]
     },
     "metadata": {},
     "output_type": "display_data"
    },
    {
     "data": {
      "text/markdown": [
       "### KIT"
      ],
      "text/plain": [
       "<IPython.core.display.Markdown object>"
      ]
     },
     "metadata": {},
     "output_type": "display_data"
    },
    {
     "data": {
      "text/markdown": [
       "#### CURRENT"
      ],
      "text/plain": [
       "<IPython.core.display.Markdown object>"
      ]
     },
     "metadata": {},
     "output_type": "display_data"
    },
    {
     "data": {
      "text/markdown": [
       "Kit **CURRENT** located **Europe/Madrid**"
      ],
      "text/plain": [
       "<IPython.core.display.Markdown object>"
      ]
     },
     "metadata": {},
     "output_type": "display_data"
    },
    {
     "data": {
      "text/markdown": [
       "Kit **CURRENT** has been loaded"
      ],
      "text/plain": [
       "<IPython.core.display.Markdown object>"
      ]
     },
     "metadata": {},
     "output_type": "display_data"
    },
    {
     "data": {
      "text/markdown": [
       "#### TEMPERATURE"
      ],
      "text/plain": [
       "<IPython.core.display.Markdown object>"
      ]
     },
     "metadata": {},
     "output_type": "display_data"
    },
    {
     "data": {
      "text/markdown": [
       "Kit **TEMPERATURE** located **Europe/Madrid**"
      ],
      "text/plain": [
       "<IPython.core.display.Markdown object>"
      ]
     },
     "metadata": {},
     "output_type": "display_data"
    },
    {
     "data": {
      "text/markdown": [
       "Kit **TEMPERATURE** has been loaded"
      ],
      "text/plain": [
       "<IPython.core.display.Markdown object>"
      ]
     },
     "metadata": {},
     "output_type": "display_data"
    },
    {
     "name": "stdout",
     "output_type": "stream",
     "text": [
      "------------------------------------------------------\n",
      "------------------------------------------------------\n"
     ]
    },
    {
     "data": {
      "text/markdown": [
       "## Test Load"
      ],
      "text/plain": [
       "<IPython.core.display.Markdown object>"
      ]
     },
     "metadata": {},
     "output_type": "display_data"
    },
    {
     "data": {
      "text/markdown": [
       "Loading test **2018-07_INT_TEMP_CALIB_CASE_25degC** performed from 2018-07-21 to 2017-07-21"
      ],
      "text/plain": [
       "<IPython.core.display.Markdown object>"
      ]
     },
     "metadata": {},
     "output_type": "display_data"
    },
    {
     "data": {
      "text/markdown": [
       "Test performed with commit **0451aad9735d20c2a03f8e47b39796baba098e08**"
      ],
      "text/plain": [
       "<IPython.core.display.Markdown object>"
      ]
     },
     "metadata": {},
     "output_type": "display_data"
    },
    {
     "data": {
      "text/markdown": [
       "<hr />\n",
       "<p><strong>Comment:</strong> \n",
       "Temperature calibration test</p>\n",
       "<p>Reading Interval: 2s\n",
       "ON/OFF Sequence for mics: every 30min\n",
       "Number of sequences: 5\n",
       "ESP_ON time = 5s\n",
       "ESP_OFF time = 30s</p>\n",
       "<p>SCK inside a case, SHT31 without a case</p>"
      ],
      "text/plain": [
       "<IPython.core.display.Markdown object>"
      ]
     },
     "metadata": {},
     "output_type": "display_data"
    },
    {
     "data": {
      "text/markdown": [
       "### KIT"
      ],
      "text/plain": [
       "<IPython.core.display.Markdown object>"
      ]
     },
     "metadata": {},
     "output_type": "display_data"
    },
    {
     "data": {
      "text/markdown": [
       "#### CURRENT"
      ],
      "text/plain": [
       "<IPython.core.display.Markdown object>"
      ]
     },
     "metadata": {},
     "output_type": "display_data"
    },
    {
     "data": {
      "text/markdown": [
       "Kit **CURRENT** located **Europe/Madrid**"
      ],
      "text/plain": [
       "<IPython.core.display.Markdown object>"
      ]
     },
     "metadata": {},
     "output_type": "display_data"
    },
    {
     "data": {
      "text/markdown": [
       "Kit **CURRENT** has been loaded"
      ],
      "text/plain": [
       "<IPython.core.display.Markdown object>"
      ]
     },
     "metadata": {},
     "output_type": "display_data"
    },
    {
     "data": {
      "text/markdown": [
       "#### TEMPERATURE"
      ],
      "text/plain": [
       "<IPython.core.display.Markdown object>"
      ]
     },
     "metadata": {},
     "output_type": "display_data"
    },
    {
     "data": {
      "text/markdown": [
       "Kit **TEMPERATURE** located **Europe/Madrid**"
      ],
      "text/plain": [
       "<IPython.core.display.Markdown object>"
      ]
     },
     "metadata": {},
     "output_type": "display_data"
    },
    {
     "data": {
      "text/markdown": [
       "Kit **TEMPERATURE** has been loaded"
      ],
      "text/plain": [
       "<IPython.core.display.Markdown object>"
      ]
     },
     "metadata": {},
     "output_type": "display_data"
    },
    {
     "name": "stdout",
     "output_type": "stream",
     "text": [
      "------------------------------------------------------\n",
      "------------------------------------------------------\n"
     ]
    },
    {
     "data": {
      "text/markdown": [
       "## Test Load"
      ],
      "text/plain": [
       "<IPython.core.display.Markdown object>"
      ]
     },
     "metadata": {},
     "output_type": "display_data"
    },
    {
     "data": {
      "text/markdown": [
       "Loading test **2018-07_INT_TEMP_CALIB_FRIDGE_5-10degC** performed from 2018-07-21 to 2017-07-21"
      ],
      "text/plain": [
       "<IPython.core.display.Markdown object>"
      ]
     },
     "metadata": {},
     "output_type": "display_data"
    },
    {
     "data": {
      "text/markdown": [
       "Test performed with commit **0451aad9735d20c2a03f8e47b39796baba098e08**"
      ],
      "text/plain": [
       "<IPython.core.display.Markdown object>"
      ]
     },
     "metadata": {},
     "output_type": "display_data"
    },
    {
     "data": {
      "text/markdown": [
       "<hr />\n",
       "<p><strong>Comment:</strong> \n",
       "Temperature calibration test</p>\n",
       "<p>Reading Interval: 2s\n",
       "ON/OFF Sequence for mics: every 30min\n",
       "Number of sequences: 5\n",
       "ESP_ON time = 5s\n",
       "ESP_OFF time = 30s</p>"
      ],
      "text/plain": [
       "<IPython.core.display.Markdown object>"
      ]
     },
     "metadata": {},
     "output_type": "display_data"
    },
    {
     "data": {
      "text/markdown": [
       "### KIT"
      ],
      "text/plain": [
       "<IPython.core.display.Markdown object>"
      ]
     },
     "metadata": {},
     "output_type": "display_data"
    },
    {
     "data": {
      "text/markdown": [
       "#### CURRENT"
      ],
      "text/plain": [
       "<IPython.core.display.Markdown object>"
      ]
     },
     "metadata": {},
     "output_type": "display_data"
    },
    {
     "data": {
      "text/markdown": [
       "Kit **CURRENT** located **Europe/Madrid**"
      ],
      "text/plain": [
       "<IPython.core.display.Markdown object>"
      ]
     },
     "metadata": {},
     "output_type": "display_data"
    },
    {
     "data": {
      "text/markdown": [
       "Kit **CURRENT** has been loaded"
      ],
      "text/plain": [
       "<IPython.core.display.Markdown object>"
      ]
     },
     "metadata": {},
     "output_type": "display_data"
    },
    {
     "data": {
      "text/markdown": [
       "#### TEMPERATURE"
      ],
      "text/plain": [
       "<IPython.core.display.Markdown object>"
      ]
     },
     "metadata": {},
     "output_type": "display_data"
    },
    {
     "data": {
      "text/markdown": [
       "Kit **TEMPERATURE** located **Europe/Madrid**"
      ],
      "text/plain": [
       "<IPython.core.display.Markdown object>"
      ]
     },
     "metadata": {},
     "output_type": "display_data"
    },
    {
     "data": {
      "text/markdown": [
       "Kit **TEMPERATURE** has been loaded"
      ],
      "text/plain": [
       "<IPython.core.display.Markdown object>"
      ]
     },
     "metadata": {},
     "output_type": "display_data"
    },
    {
     "name": "stdout",
     "output_type": "stream",
     "text": [
      "------------------------------------------------------\n",
      "------------------------------------------------------\n"
     ]
    },
    {
     "data": {
      "text/markdown": [
       "## Test Load"
      ],
      "text/plain": [
       "<IPython.core.display.Markdown object>"
      ]
     },
     "metadata": {},
     "output_type": "display_data"
    },
    {
     "data": {
      "text/markdown": [
       "Loading test **2018-07_INT_TEMP_CALIB_CASE_BOTH_25degC** performed from 2018-07-21 to 2017-07-21"
      ],
      "text/plain": [
       "<IPython.core.display.Markdown object>"
      ]
     },
     "metadata": {},
     "output_type": "display_data"
    },
    {
     "data": {
      "text/markdown": [
       "Test performed with commit **0451aad9735d20c2a03f8e47b39796baba098e08**"
      ],
      "text/plain": [
       "<IPython.core.display.Markdown object>"
      ]
     },
     "metadata": {},
     "output_type": "display_data"
    },
    {
     "data": {
      "text/markdown": [
       "<hr />\n",
       "<p><strong>Comment:</strong> \n",
       "Temperature calibration test</p>\n",
       "<p>Reading Interval: 2s\n",
       "ON/OFF Sequence for mics: every 30min\n",
       "Number of sequences: 5\n",
       "ESP_ON time = 5s\n",
       "ESP_OFF time = 30s</p>\n",
       "<p>BOTH SHT31 and SCK in a case</p>"
      ],
      "text/plain": [
       "<IPython.core.display.Markdown object>"
      ]
     },
     "metadata": {},
     "output_type": "display_data"
    },
    {
     "data": {
      "text/markdown": [
       "### KIT"
      ],
      "text/plain": [
       "<IPython.core.display.Markdown object>"
      ]
     },
     "metadata": {},
     "output_type": "display_data"
    },
    {
     "data": {
      "text/markdown": [
       "#### CURRENT"
      ],
      "text/plain": [
       "<IPython.core.display.Markdown object>"
      ]
     },
     "metadata": {},
     "output_type": "display_data"
    },
    {
     "data": {
      "text/markdown": [
       "Kit **CURRENT** located **Europe/Madrid**"
      ],
      "text/plain": [
       "<IPython.core.display.Markdown object>"
      ]
     },
     "metadata": {},
     "output_type": "display_data"
    },
    {
     "data": {
      "text/markdown": [
       "Kit **CURRENT** has been loaded"
      ],
      "text/plain": [
       "<IPython.core.display.Markdown object>"
      ]
     },
     "metadata": {},
     "output_type": "display_data"
    },
    {
     "data": {
      "text/markdown": [
       "#### TEMPERATURE"
      ],
      "text/plain": [
       "<IPython.core.display.Markdown object>"
      ]
     },
     "metadata": {},
     "output_type": "display_data"
    },
    {
     "data": {
      "text/markdown": [
       "Kit **TEMPERATURE** located **Europe/Madrid**"
      ],
      "text/plain": [
       "<IPython.core.display.Markdown object>"
      ]
     },
     "metadata": {},
     "output_type": "display_data"
    },
    {
     "data": {
      "text/markdown": [
       "Kit **TEMPERATURE** has been loaded"
      ],
      "text/plain": [
       "<IPython.core.display.Markdown object>"
      ]
     },
     "metadata": {},
     "output_type": "display_data"
    },
    {
     "name": "stdout",
     "output_type": "stream",
     "text": [
      "------------------------------------------------------\n"
     ]
    }
   ],
   "source": [
    "from test_utils import *\n",
    "\n",
    "testsDir = join(rootDirectory, 'smartcitizen-iscape-tests')\n",
    "\n",
    "def loadButton(b):\n",
    "    frequency = frequency_text.value + frequency_drop.value\n",
    "    readings_selected = loadTest(frequency)\n",
    "    \n",
    "    for key in readings_selected.keys():\n",
    "        try:\n",
    "            readings[key] = dict()\n",
    "            readings[key] = readings_selected[key]\n",
    "        except NameError:\n",
    "            global readings\n",
    "            readings = dict()\n",
    "            readings[key] = readings_selected[key]\n",
    "    \n",
    "\n",
    "def clearButton(b):\n",
    "    \n",
    "    global readings\n",
    "    clearTests()\n",
    "    readings = {}\n",
    "\n",
    "display(widgets.HTML('<hr><h4>Import Local Tests</h4>'))\n",
    "\n",
    "tests = getTests(testsDir)\n",
    "interact(selectTests,\n",
    "         x = widgets.SelectMultiple(options=tests, \n",
    "                           selected_labels = selectedTests, \n",
    "                           layout=widgets.Layout(width='700px')))\n",
    "\n",
    "loadB = widgets.Button(description='Load Local Tests')\n",
    "loadB.on_click(loadButton)\n",
    "\n",
    "frequency_text = widgets.Text(description = 'Frequency',\n",
    "                              value = '1',\n",
    "                              layout = widgets.Layout(width='300px'))\n",
    "frequency_drop = widgets.Dropdown(options = ['H', 'Min', 'S'],\n",
    "                                  value = 'Min',\n",
    "                                  description = '',\n",
    "                                  layout = widgets.Layout(width='100px'))\n",
    "\n",
    "frequency_box = widgets.HBox([frequency_text, frequency_drop])\n",
    "\n",
    "resetB = widgets.Button(description='Clear Tests')\n",
    "resetB.on_click(clearButton)\n",
    "\n",
    "buttonBox = widgets.HBox([loadB, resetB])\n",
    "totalBox = widgets.VBox([frequency_box, buttonBox])\n",
    "display(totalBox)"
   ]
  },
  {
   "cell_type": "markdown",
   "metadata": {},
   "source": [
    "# Calculator"
   ]
  },
  {
   "cell_type": "code",
   "execution_count": 7,
   "metadata": {},
   "outputs": [
    {
     "name": "stdout",
     "output_type": "stream",
     "text": [
      "Formula ON_OFF Added in test 2018-07_INT_TEMP_CALIB_FRIDGE_5-10degC\n"
     ]
    }
   ],
   "source": [
    "from formula_utils import *\n",
    "import pandas as pd\n",
    "from IPython.display import display, clear_output\n",
    "import ipywidgets as widgets\n",
    "\n",
    "def show_device_list(Source):\n",
    "    _devices_select.options = [s for s in list(readings[_test.value]['devices'].keys())]\n",
    "    #_min_date.value = readings[Source].index.min()._short_repr\n",
    "    #_max_date.value = readings[Source].index.max()._short_repr\n",
    "\n",
    "def commonChannels(selected):\n",
    "    global commonChannelsList\n",
    "    commonChannelsList = []\n",
    "    if (len(selected) == 1):\n",
    "        commonChannelsList = readings[_test.value]['devices'][selected[0]]['data'].columns\n",
    "    if (len(selected) > 1):\n",
    "        commonChannelsList = readings[_test.value]['devices'][selected[0]]['data'].columns\n",
    "        for s in list(selected):\n",
    "            commonChannelsList = list(set(commonChannelsList) & set(readings[_test.value]['devices'][s]['data'].columns))\n",
    "    _Aterm.options = list(commonChannelsList)\n",
    "    _Aterm.source = selected\n",
    "    _Bterm.options = list(commonChannelsList)\n",
    "    _Bterm.source = selected\n",
    "    _Cterm.options = list(commonChannelsList)\n",
    "    _Cterm.source = selected\n",
    "    _Dterm.options = list(commonChannelsList)\n",
    "    _Dterm.source = selected\n",
    "    \n",
    "def calculateFormula(b):\n",
    "    clear_output()\n",
    "    A = _Aterm.value\n",
    "    B = _Bterm.value\n",
    "    C = _Cterm.value\n",
    "    D = _Dterm.value\n",
    "    Name = _formulaName.value\n",
    "    for s in list(selected):\n",
    "        result = functionFormula(s,A,B,C,D,readings)\n",
    "        readings[_test.value]['devices'][s]['data'][Name] = result\n",
    "    print \"Formula {} Added in test {}\".format(Name, _test.value)\n",
    "    \n",
    "def functionFormula(s, Aname, Bname, Cname, Dname, _readings): \n",
    "    calcData = pd.DataFrame()\n",
    "    mergeData = pd.merge(pd.merge(pd.merge(_readings[_test.value]['devices'][s]['data'].loc[:,(Aname,)],_readings[_test.value]['devices'][s]['data'].loc[:,(Bname,)],left_index=True, right_index=True), _readings[_test.value]['devices'][s]['data'].loc[:,(Cname,)], left_index=True, right_index=True),_readings[_test.value]['devices'][s]['data'].loc[:,(Dname,)],left_index=True, right_index=True)\n",
    "    calcData[Aname] = mergeData.iloc[:,0] #A\n",
    "    calcData[Bname] = mergeData.iloc[:,1] #B\n",
    "    calcData[Cname] = mergeData.iloc[:,2] #C\n",
    "    calcData[Dname] = mergeData.iloc[:,3] #D\n",
    "    A = calcData[Aname]\n",
    "    B = calcData[Bname]\n",
    "    C = calcData[Cname]\n",
    "    D = calcData[Dname]\n",
    "    result = eval(_formula.value)\n",
    "    return result\n",
    "        \n",
    "selected=tuple()\n",
    "def selectedDevices(Source):\n",
    "    global selected\n",
    "    selected = list(Source)\n",
    "    commonChannels(selected)\n",
    "\n",
    "# Test dropdown\n",
    "layout = widgets.Layout(width='400px')\n",
    "_test = widgets.Dropdown(options=[k for k in readings.keys()], \n",
    "                        layout=layout,\n",
    "                        description = 'Test')\n",
    "\n",
    "_test_drop = widgets.interactive(show_device_list, \n",
    "                                Source=_test, \n",
    "                                layout=layout)\n",
    "\n",
    "_Aterm = widgets.Dropdown(description = 'A', layout=layout)\n",
    "_Bterm = widgets.Dropdown(description = 'B', layout=layout)\n",
    "_Cterm = widgets.Dropdown(description = 'C', layout=layout)\n",
    "_Dterm = widgets.Dropdown(description = 'D', layout=layout)\n",
    "\n",
    "_devices_select = widgets.SelectMultiple(layout=widgets.Layout(width='700px'))\n",
    "_devices_select_drop = interact(selectedDevices,\n",
    "                                 Source = _devices_select)\n",
    "\n",
    "_selectBox = widgets.VBox([_test_drop, _devices_select])\n",
    "\n",
    "_formulaName = widgets.Text(description = 'Name: ')\n",
    "_formula = widgets.Text(description = '=')\n",
    "_ABtermsBox = widgets.HBox([_Aterm, _Bterm])\n",
    "_CDtermsBox = widgets.HBox([_Cterm, _Dterm])\n",
    "_termsBox = widgets.VBox([_selectBox, _ABtermsBox, _CDtermsBox])\n",
    "_calculate = widgets.Button(description='Calculate')\n",
    "_calculateBox = widgets.HBox([_formulaName,_formula, _calculate])\n",
    "_calculate.on_click(calculateFormula)\n",
    "\n",
    "display(widgets.HTML('<hr><h4>Select the Files for your formulas to apply</h4>'))\n",
    "display(_termsBox)\n",
    "display(widgets.HTML('<h4>Input your formula Below</h4>'))\n",
    "display(_calculateBox)\n",
    "\n",
    "## Vapour equilibrium: B is temperature in degC, assumed 1013mbar\n",
    "# (1.0007 + 3.46*1e-6*1013)*6.1121*np.exp(17.502*B/(240.97+B))"
   ]
  },
  {
   "cell_type": "markdown",
   "metadata": {},
   "source": [
    "# Heating test"
   ]
  },
  {
   "cell_type": "code",
   "execution_count": 8,
   "metadata": {
    "code_folding": [
     51,
     63
    ]
   },
   "outputs": [
    {
     "name": "stdout",
     "output_type": "stream",
     "text": [
      "2018-07_INT_TEMP_CALIB_30degC\n",
      "Index([u'Current', u'ON_OFF'], dtype='object')\n",
      "['CURRENT', 'TEMPERATURE']\n",
      "                           Current_CURRENT  ON_OFF_CURRENT  \\\n",
      "Time                                                         \n",
      "2018-07-17 12:51:46+02:00             60.6             1.0   \n",
      "2018-07-17 12:51:48+02:00             60.9             1.0   \n",
      "2018-07-17 12:51:50+02:00              NaN             1.0   \n",
      "2018-07-17 12:51:52+02:00             61.3             1.0   \n",
      "2018-07-17 12:51:54+02:00             61.4             1.0   \n",
      "2018-07-17 12:51:56+02:00             59.5             1.0   \n",
      "2018-07-17 12:51:58+02:00             60.1             1.0   \n",
      "2018-07-17 12:52:00+02:00             62.1             1.0   \n",
      "2018-07-17 12:52:02+02:00             60.4             1.0   \n",
      "2018-07-17 12:52:04+02:00             60.4             1.0   \n",
      "2018-07-17 12:52:06+02:00             60.1             1.0   \n",
      "2018-07-17 12:52:08+02:00             60.2             1.0   \n",
      "2018-07-17 12:52:10+02:00             59.7             1.0   \n",
      "2018-07-17 12:52:12+02:00             59.9             1.0   \n",
      "2018-07-17 12:52:14+02:00             61.0             1.0   \n",
      "2018-07-17 12:52:16+02:00             60.4             1.0   \n",
      "2018-07-17 12:52:18+02:00            117.9             1.0   \n",
      "2018-07-17 12:52:20+02:00            118.6             1.0   \n",
      "2018-07-17 12:52:22+02:00             63.5             1.0   \n",
      "2018-07-17 12:52:24+02:00             61.0             1.0   \n",
      "2018-07-17 12:52:26+02:00             60.4             1.0   \n",
      "2018-07-17 12:52:28+02:00             61.4             1.0   \n",
      "2018-07-17 12:52:30+02:00             60.5             1.0   \n",
      "2018-07-17 12:52:32+02:00             60.3             1.0   \n",
      "2018-07-17 12:52:34+02:00             60.5             1.0   \n",
      "2018-07-17 12:52:36+02:00             60.1             1.0   \n",
      "2018-07-17 12:52:38+02:00             61.7             1.0   \n",
      "2018-07-17 12:52:40+02:00             61.0             1.0   \n",
      "2018-07-17 12:52:42+02:00             61.2             1.0   \n",
      "2018-07-17 12:52:44+02:00             60.2             1.0   \n",
      "...                                    ...             ...   \n",
      "2018-07-17 16:11:16+02:00             14.0             0.0   \n",
      "2018-07-17 16:11:18+02:00             14.1             0.0   \n",
      "2018-07-17 16:11:20+02:00             15.0             0.0   \n",
      "2018-07-17 16:11:22+02:00             13.7             0.0   \n",
      "2018-07-17 16:11:24+02:00             13.9             0.0   \n",
      "2018-07-17 16:11:26+02:00             13.9             0.0   \n",
      "2018-07-17 16:11:28+02:00             13.3             0.0   \n",
      "2018-07-17 16:11:30+02:00             14.4             0.0   \n",
      "2018-07-17 16:11:32+02:00             13.9             0.0   \n",
      "2018-07-17 16:11:34+02:00             13.3             0.0   \n",
      "2018-07-17 16:11:36+02:00             13.4             0.0   \n",
      "2018-07-17 16:11:38+02:00             14.2             0.0   \n",
      "2018-07-17 16:11:40+02:00             13.8             0.0   \n",
      "2018-07-17 16:11:42+02:00             14.8             0.0   \n",
      "2018-07-17 16:11:44+02:00             14.5             0.0   \n",
      "2018-07-17 16:11:46+02:00             14.3             0.0   \n",
      "2018-07-17 16:11:48+02:00             14.1             0.0   \n",
      "2018-07-17 16:11:50+02:00             14.5             0.0   \n",
      "2018-07-17 16:11:52+02:00             14.0             0.0   \n",
      "2018-07-17 16:11:54+02:00             15.2             0.0   \n",
      "2018-07-17 16:11:56+02:00             16.9             0.0   \n",
      "2018-07-17 16:11:58+02:00             14.3             0.0   \n",
      "2018-07-17 16:12:00+02:00             14.7             0.0   \n",
      "2018-07-17 16:12:02+02:00             14.0             0.0   \n",
      "2018-07-17 16:12:04+02:00             14.1             0.0   \n",
      "2018-07-17 16:12:06+02:00             81.6             1.0   \n",
      "2018-07-17 16:12:08+02:00             62.6             1.0   \n",
      "2018-07-17 16:12:10+02:00             61.5             1.0   \n",
      "2018-07-17 16:12:12+02:00             61.0             1.0   \n",
      "2018-07-17 16:12:14+02:00             60.5             1.0   \n",
      "\n",
      "                           Temperature_TEMPERATURE  \\\n",
      "Time                                                 \n",
      "2018-07-17 12:51:46+02:00                      NaN   \n",
      "2018-07-17 12:51:48+02:00                      NaN   \n",
      "2018-07-17 12:51:50+02:00                    30.63   \n",
      "2018-07-17 12:51:52+02:00                    30.73   \n",
      "2018-07-17 12:51:54+02:00                    30.76   \n",
      "2018-07-17 12:51:56+02:00                    30.81   \n",
      "2018-07-17 12:51:58+02:00                    30.86   \n",
      "2018-07-17 12:52:00+02:00                    30.88   \n",
      "2018-07-17 12:52:02+02:00                    30.93   \n",
      "2018-07-17 12:52:04+02:00                    30.98   \n",
      "2018-07-17 12:52:06+02:00                    31.01   \n",
      "2018-07-17 12:52:08+02:00                    31.06   \n",
      "2018-07-17 12:52:10+02:00                    31.10   \n",
      "2018-07-17 12:52:12+02:00                    31.14   \n",
      "2018-07-17 12:52:14+02:00                    31.15   \n",
      "2018-07-17 12:52:16+02:00                    31.15   \n",
      "2018-07-17 12:52:18+02:00                    31.24   \n",
      "2018-07-17 12:52:20+02:00                    31.26   \n",
      "2018-07-17 12:52:22+02:00                    31.25   \n",
      "2018-07-17 12:52:24+02:00                    31.31   \n",
      "2018-07-17 12:52:26+02:00                    31.34   \n",
      "2018-07-17 12:52:28+02:00                    31.38   \n",
      "2018-07-17 12:52:30+02:00                    31.42   \n",
      "2018-07-17 12:52:32+02:00                    31.45   \n",
      "2018-07-17 12:52:34+02:00                    31.46   \n",
      "2018-07-17 12:52:36+02:00                    31.50   \n",
      "2018-07-17 12:52:38+02:00                    31.53   \n",
      "2018-07-17 12:52:40+02:00                    31.56   \n",
      "2018-07-17 12:52:42+02:00                    31.59   \n",
      "2018-07-17 12:52:44+02:00                    31.60   \n",
      "...                                            ...   \n",
      "2018-07-17 16:11:16+02:00                    30.56   \n",
      "2018-07-17 16:11:18+02:00                    30.53   \n",
      "2018-07-17 16:11:20+02:00                    30.55   \n",
      "2018-07-17 16:11:22+02:00                    30.56   \n",
      "2018-07-17 16:11:24+02:00                    30.55   \n",
      "2018-07-17 16:11:26+02:00                    30.56   \n",
      "2018-07-17 16:11:28+02:00                    30.55   \n",
      "2018-07-17 16:11:30+02:00                    30.53   \n",
      "2018-07-17 16:11:32+02:00                    30.53   \n",
      "2018-07-17 16:11:34+02:00                    30.56   \n",
      "2018-07-17 16:11:36+02:00                    30.55   \n",
      "2018-07-17 16:11:38+02:00                    30.53   \n",
      "2018-07-17 16:11:40+02:00                    30.53   \n",
      "2018-07-17 16:11:42+02:00                    30.55   \n",
      "2018-07-17 16:11:44+02:00                    30.52   \n",
      "2018-07-17 16:11:46+02:00                    30.52   \n",
      "2018-07-17 16:11:48+02:00                    30.53   \n",
      "2018-07-17 16:11:50+02:00                    30.56   \n",
      "2018-07-17 16:11:52+02:00                    30.53   \n",
      "2018-07-17 16:11:54+02:00                    30.49   \n",
      "2018-07-17 16:11:56+02:00                    30.53   \n",
      "2018-07-17 16:11:58+02:00                    30.51   \n",
      "2018-07-17 16:12:00+02:00                    30.52   \n",
      "2018-07-17 16:12:02+02:00                    30.53   \n",
      "2018-07-17 16:12:04+02:00                    30.49   \n",
      "2018-07-17 16:12:06+02:00                      NaN   \n",
      "2018-07-17 16:12:08+02:00                      NaN   \n",
      "2018-07-17 16:12:10+02:00                    30.46   \n",
      "2018-07-17 16:12:12+02:00                    30.51   \n",
      "2018-07-17 16:12:14+02:00                    30.48   \n",
      "\n",
      "                           External Temperature_TEMPERATURE  \\\n",
      "Time                                                          \n",
      "2018-07-17 12:51:46+02:00                               NaN   \n",
      "2018-07-17 12:51:48+02:00                               NaN   \n",
      "2018-07-17 12:51:50+02:00                            30.354   \n",
      "2018-07-17 12:51:52+02:00                            30.397   \n",
      "2018-07-17 12:51:54+02:00                            30.429   \n",
      "2018-07-17 12:51:56+02:00                            30.455   \n",
      "2018-07-17 12:51:58+02:00                            30.442   \n",
      "2018-07-17 12:52:00+02:00                            30.455   \n",
      "2018-07-17 12:52:02+02:00                            30.469   \n",
      "2018-07-17 12:52:04+02:00                            30.485   \n",
      "2018-07-17 12:52:06+02:00                            30.469   \n",
      "2018-07-17 12:52:08+02:00                            30.525   \n",
      "2018-07-17 12:52:10+02:00                            30.512   \n",
      "2018-07-17 12:52:12+02:00                            30.498   \n",
      "2018-07-17 12:52:14+02:00                            30.525   \n",
      "2018-07-17 12:52:16+02:00                            30.455   \n",
      "2018-07-17 12:52:18+02:00                            30.469   \n",
      "2018-07-17 12:52:20+02:00                            30.512   \n",
      "2018-07-17 12:52:22+02:00                            30.410   \n",
      "2018-07-17 12:52:24+02:00                            30.498   \n",
      "2018-07-17 12:52:26+02:00                            30.498   \n",
      "2018-07-17 12:52:28+02:00                            30.512   \n",
      "2018-07-17 12:52:30+02:00                            30.525   \n",
      "2018-07-17 12:52:32+02:00                            30.541   \n",
      "2018-07-17 12:52:34+02:00                            30.554   \n",
      "2018-07-17 12:52:36+02:00                            30.525   \n",
      "2018-07-17 12:52:38+02:00                            30.541   \n",
      "2018-07-17 12:52:40+02:00                            30.554   \n",
      "2018-07-17 12:52:42+02:00                            30.541   \n",
      "2018-07-17 12:52:44+02:00                            30.541   \n",
      "...                                                     ...   \n",
      "2018-07-17 16:11:16+02:00                            30.047   \n",
      "2018-07-17 16:11:18+02:00                            30.047   \n",
      "2018-07-17 16:11:20+02:00                            30.074   \n",
      "2018-07-17 16:11:22+02:00                            30.060   \n",
      "2018-07-17 16:11:24+02:00                            30.074   \n",
      "2018-07-17 16:11:26+02:00                            30.034   \n",
      "2018-07-17 16:11:28+02:00                            30.060   \n",
      "2018-07-17 16:11:30+02:00                            30.047   \n",
      "2018-07-17 16:11:32+02:00                            30.060   \n",
      "2018-07-17 16:11:34+02:00                            30.034   \n",
      "2018-07-17 16:11:36+02:00                            30.034   \n",
      "2018-07-17 16:11:38+02:00                            30.047   \n",
      "2018-07-17 16:11:40+02:00                            30.034   \n",
      "2018-07-17 16:11:42+02:00                            30.034   \n",
      "2018-07-17 16:11:44+02:00                            30.034   \n",
      "2018-07-17 16:11:46+02:00                            30.047   \n",
      "2018-07-17 16:11:48+02:00                            30.034   \n",
      "2018-07-17 16:11:50+02:00                            30.034   \n",
      "2018-07-17 16:11:52+02:00                            30.034   \n",
      "2018-07-17 16:11:54+02:00                            30.034   \n",
      "2018-07-17 16:11:56+02:00                            30.034   \n",
      "2018-07-17 16:11:58+02:00                            30.047   \n",
      "2018-07-17 16:12:00+02:00                            30.018   \n",
      "2018-07-17 16:12:02+02:00                            30.034   \n",
      "2018-07-17 16:12:04+02:00                            30.018   \n",
      "2018-07-17 16:12:06+02:00                               NaN   \n",
      "2018-07-17 16:12:08+02:00                               NaN   \n",
      "2018-07-17 16:12:10+02:00                            29.961   \n",
      "2018-07-17 16:12:12+02:00                            30.004   \n",
      "2018-07-17 16:12:14+02:00                            30.018   \n",
      "\n",
      "                           Humidity_TEMPERATURE  External Humidity_TEMPERATURE  \n",
      "Time                                                                            \n",
      "2018-07-17 12:51:46+02:00                   NaN                            NaN  \n",
      "2018-07-17 12:51:48+02:00                   NaN                            NaN  \n",
      "2018-07-17 12:51:50+02:00                 60.83                         61.106  \n",
      "2018-07-17 12:51:52+02:00                 60.64                         60.954  \n",
      "2018-07-17 12:51:54+02:00                 60.60                         60.862  \n",
      "2018-07-17 12:51:56+02:00                 60.53                         60.853  \n",
      "2018-07-17 12:51:58+02:00                 60.34                         60.699  \n",
      "2018-07-17 12:52:00+02:00                 60.02                         60.597  \n",
      "2018-07-17 12:52:02+02:00                 59.72                         60.633  \n",
      "2018-07-17 12:52:04+02:00                 59.58                         60.560  \n",
      "2018-07-17 12:52:06+02:00                 59.47                         60.542  \n",
      "2018-07-17 12:52:08+02:00                 59.37                         60.424  \n",
      "2018-07-17 12:52:10+02:00                 59.15                         60.310  \n",
      "2018-07-17 12:52:12+02:00                 59.03                         60.223  \n",
      "2018-07-17 12:52:14+02:00                 58.92                         60.276  \n",
      "2018-07-17 12:52:16+02:00                 58.79                         60.259  \n",
      "2018-07-17 12:52:18+02:00                 58.68                         60.281  \n",
      "2018-07-17 12:52:20+02:00                 58.54                         60.259  \n",
      "2018-07-17 12:52:22+02:00                 58.48                         60.323  \n",
      "2018-07-17 12:52:24+02:00                 58.54                         60.388  \n",
      "2018-07-17 12:52:26+02:00                 58.45                         60.418  \n",
      "2018-07-17 12:52:28+02:00                 58.41                         60.388  \n",
      "2018-07-17 12:52:30+02:00                 58.41                         60.322  \n",
      "2018-07-17 12:52:32+02:00                 58.31                         60.278  \n",
      "2018-07-17 12:52:34+02:00                 58.07                         60.180  \n",
      "2018-07-17 12:52:36+02:00                 57.91                         60.168  \n",
      "2018-07-17 12:52:38+02:00                 57.82                         60.148  \n",
      "2018-07-17 12:52:40+02:00                 57.65                         60.122  \n",
      "2018-07-17 12:52:42+02:00                 57.58                         60.095  \n",
      "2018-07-17 12:52:44+02:00                 57.57                         60.075  \n",
      "...                                         ...                            ...  \n",
      "2018-07-17 16:11:16+02:00                 53.59                         55.517  \n",
      "2018-07-17 16:11:18+02:00                 53.62                         55.421  \n",
      "2018-07-17 16:11:20+02:00                 53.62                         55.341  \n",
      "2018-07-17 16:11:22+02:00                 53.53                         55.291  \n",
      "2018-07-17 16:11:24+02:00                 53.54                         55.174  \n",
      "2018-07-17 16:11:26+02:00                 53.54                         55.151  \n",
      "2018-07-17 16:11:28+02:00                 53.47                         55.117  \n",
      "2018-07-17 16:11:30+02:00                 53.43                         54.998  \n",
      "2018-07-17 16:11:32+02:00                 53.40                         54.981  \n",
      "2018-07-17 16:11:34+02:00                 53.38                         54.961  \n",
      "2018-07-17 16:11:36+02:00                 53.36                         54.958  \n",
      "2018-07-17 16:11:38+02:00                 53.37                         54.876  \n",
      "2018-07-17 16:11:40+02:00                 53.35                         54.911  \n",
      "2018-07-17 16:11:42+02:00                 53.36                         54.911  \n",
      "2018-07-17 16:11:44+02:00                 53.37                         54.911  \n",
      "2018-07-17 16:11:46+02:00                 53.37                         54.899  \n",
      "2018-07-17 16:11:48+02:00                 53.42                         54.885  \n",
      "2018-07-17 16:11:50+02:00                 53.41                         54.897  \n",
      "2018-07-17 16:11:52+02:00                 53.41                         54.936  \n",
      "2018-07-17 16:11:54+02:00                 53.46                         54.945  \n",
      "2018-07-17 16:11:56+02:00                 53.46                         54.934  \n",
      "2018-07-17 16:11:58+02:00                 53.48                         54.958  \n",
      "2018-07-17 16:12:00+02:00                 53.49                         54.952  \n",
      "2018-07-17 16:12:02+02:00                 53.48                         54.977  \n",
      "2018-07-17 16:12:04+02:00                 53.50                         54.931  \n",
      "2018-07-17 16:12:06+02:00                   NaN                            NaN  \n",
      "2018-07-17 16:12:08+02:00                   NaN                            NaN  \n",
      "2018-07-17 16:12:10+02:00                 53.60                         55.064  \n",
      "2018-07-17 16:12:12+02:00                 53.58                         55.058  \n",
      "2018-07-17 16:12:14+02:00                 53.57                         55.021  \n",
      "\n",
      "[6015 rows x 6 columns]\n"
     ]
    },
    {
     "name": "stdout",
     "output_type": "stream",
     "text": [
      "2018-07_INT_TEMP_CALIB_CASE_BOTH_25degC\n",
      "Index([u'Current', u'ON_OFF'], dtype='object')\n",
      "['CURRENT', 'TEMPERATURE']\n",
      "                           Current_CURRENT  ON_OFF_CURRENT  \\\n",
      "Time                                                         \n",
      "2018-07-22 21:12:38+02:00             59.8             1.0   \n",
      "2018-07-22 21:12:40+02:00             59.9             1.0   \n",
      "2018-07-22 21:12:42+02:00             59.2             1.0   \n",
      "2018-07-22 21:12:44+02:00             59.4             1.0   \n",
      "2018-07-22 21:12:46+02:00             62.0             1.0   \n",
      "2018-07-22 21:12:48+02:00             60.4             1.0   \n",
      "2018-07-22 21:12:50+02:00             61.7             1.0   \n",
      "2018-07-22 21:12:52+02:00             59.9             1.0   \n",
      "2018-07-22 21:12:54+02:00             60.3             1.0   \n",
      "2018-07-22 21:12:56+02:00             60.2             1.0   \n",
      "2018-07-22 21:12:58+02:00             60.8             1.0   \n",
      "2018-07-22 21:13:00+02:00             63.0             1.0   \n",
      "2018-07-22 21:13:02+02:00             61.0             1.0   \n",
      "2018-07-22 21:13:04+02:00             60.5             1.0   \n",
      "2018-07-22 21:13:06+02:00            119.5             1.0   \n",
      "2018-07-22 21:13:08+02:00            119.1             1.0   \n",
      "2018-07-22 21:13:10+02:00             62.3             1.0   \n",
      "2018-07-22 21:13:12+02:00             61.5             1.0   \n",
      "2018-07-22 21:13:14+02:00             59.5             1.0   \n",
      "2018-07-22 21:13:16+02:00             62.7             1.0   \n",
      "2018-07-22 21:13:18+02:00             60.3             1.0   \n",
      "2018-07-22 21:13:20+02:00             61.4             1.0   \n",
      "2018-07-22 21:13:22+02:00             60.9             1.0   \n",
      "2018-07-22 21:13:24+02:00             59.6             1.0   \n",
      "2018-07-22 21:13:26+02:00             60.9             1.0   \n",
      "2018-07-22 21:13:28+02:00             60.6             1.0   \n",
      "2018-07-22 21:13:30+02:00             61.4             1.0   \n",
      "2018-07-22 21:13:32+02:00             59.9             1.0   \n",
      "2018-07-22 21:13:34+02:00             61.2             1.0   \n",
      "2018-07-22 21:13:36+02:00             61.5             1.0   \n",
      "...                                    ...             ...   \n",
      "2018-07-23 03:12:10+02:00             14.9             0.0   \n",
      "2018-07-23 03:12:12+02:00             14.4             0.0   \n",
      "2018-07-23 03:12:14+02:00             14.4             0.0   \n",
      "2018-07-23 03:12:16+02:00             16.4             0.0   \n",
      "2018-07-23 03:12:18+02:00             16.7             0.0   \n",
      "2018-07-23 03:12:20+02:00             14.7             0.0   \n",
      "2018-07-23 03:12:22+02:00             15.0             0.0   \n",
      "2018-07-23 03:12:24+02:00             14.9             0.0   \n",
      "2018-07-23 03:12:26+02:00             14.5             0.0   \n",
      "2018-07-23 03:12:28+02:00             14.2             0.0   \n",
      "2018-07-23 03:12:30+02:00             14.4             0.0   \n",
      "2018-07-23 03:12:32+02:00             14.5             0.0   \n",
      "2018-07-23 03:12:34+02:00             15.5             0.0   \n",
      "2018-07-23 03:12:36+02:00             14.3             0.0   \n",
      "2018-07-23 03:12:38+02:00             15.7             0.0   \n",
      "2018-07-23 03:12:40+02:00             14.2             0.0   \n",
      "2018-07-23 03:12:42+02:00             14.7             0.0   \n",
      "2018-07-23 03:12:44+02:00             14.2             0.0   \n",
      "2018-07-23 03:12:46+02:00             13.7             0.0   \n",
      "2018-07-23 03:12:48+02:00             13.7             0.0   \n",
      "2018-07-23 03:12:50+02:00             14.5             0.0   \n",
      "2018-07-23 03:12:52+02:00             14.1             0.0   \n",
      "2018-07-23 03:12:54+02:00             15.8             0.0   \n",
      "2018-07-23 03:12:56+02:00             61.7             1.0   \n",
      "2018-07-23 03:12:58+02:00             62.5             1.0   \n",
      "2018-07-23 03:13:00+02:00             61.0             1.0   \n",
      "2018-07-23 03:13:02+02:00             61.3             1.0   \n",
      "2018-07-23 03:13:04+02:00             61.1             1.0   \n",
      "2018-07-23 03:13:06+02:00             59.6             1.0   \n",
      "2018-07-23 03:13:08+02:00             62.8             1.0   \n",
      "\n",
      "                           Temperature_TEMPERATURE  \\\n",
      "Time                                                 \n",
      "2018-07-22 21:12:38+02:00                    30.22   \n",
      "2018-07-22 21:12:40+02:00                    30.26   \n",
      "2018-07-22 21:12:42+02:00                    30.29   \n",
      "2018-07-22 21:12:44+02:00                    30.34   \n",
      "2018-07-22 21:12:46+02:00                    30.29   \n",
      "2018-07-22 21:12:48+02:00                    30.32   \n",
      "2018-07-22 21:12:50+02:00                    30.36   \n",
      "2018-07-22 21:12:52+02:00                    30.39   \n",
      "2018-07-22 21:12:54+02:00                    30.40   \n",
      "2018-07-22 21:12:56+02:00                    30.42   \n",
      "2018-07-22 21:12:58+02:00                    30.42   \n",
      "2018-07-22 21:13:00+02:00                    30.40   \n",
      "2018-07-22 21:13:02+02:00                    30.45   \n",
      "2018-07-22 21:13:04+02:00                    30.42   \n",
      "2018-07-22 21:13:06+02:00                    30.45   \n",
      "2018-07-22 21:13:08+02:00                    30.42   \n",
      "2018-07-22 21:13:10+02:00                    30.38   \n",
      "2018-07-22 21:13:12+02:00                    30.42   \n",
      "2018-07-22 21:13:14+02:00                    30.45   \n",
      "2018-07-22 21:13:16+02:00                    30.45   \n",
      "2018-07-22 21:13:18+02:00                    30.43   \n",
      "2018-07-22 21:13:20+02:00                    30.43   \n",
      "2018-07-22 21:13:22+02:00                    30.45   \n",
      "2018-07-22 21:13:24+02:00                    30.45   \n",
      "2018-07-22 21:13:26+02:00                    30.43   \n",
      "2018-07-22 21:13:28+02:00                    30.45   \n",
      "2018-07-22 21:13:30+02:00                    30.43   \n",
      "2018-07-22 21:13:32+02:00                    30.45   \n",
      "2018-07-22 21:13:34+02:00                    30.45   \n",
      "2018-07-22 21:13:36+02:00                    30.42   \n",
      "...                                            ...   \n",
      "2018-07-23 03:12:10+02:00                    25.57   \n",
      "2018-07-23 03:12:12+02:00                    25.56   \n",
      "2018-07-23 03:12:14+02:00                    25.59   \n",
      "2018-07-23 03:12:16+02:00                    25.57   \n",
      "2018-07-23 03:12:18+02:00                    25.55   \n",
      "2018-07-23 03:12:20+02:00                    25.57   \n",
      "2018-07-23 03:12:22+02:00                    25.56   \n",
      "2018-07-23 03:12:24+02:00                    25.56   \n",
      "2018-07-23 03:12:26+02:00                    25.55   \n",
      "2018-07-23 03:12:28+02:00                    25.57   \n",
      "2018-07-23 03:12:30+02:00                    25.55   \n",
      "2018-07-23 03:12:32+02:00                    25.56   \n",
      "2018-07-23 03:12:34+02:00                    25.56   \n",
      "2018-07-23 03:12:36+02:00                    25.55   \n",
      "2018-07-23 03:12:38+02:00                    25.55   \n",
      "2018-07-23 03:12:40+02:00                    25.56   \n",
      "2018-07-23 03:12:42+02:00                    25.57   \n",
      "2018-07-23 03:12:44+02:00                    25.56   \n",
      "2018-07-23 03:12:46+02:00                    25.55   \n",
      "2018-07-23 03:12:48+02:00                    25.53   \n",
      "2018-07-23 03:12:50+02:00                    25.56   \n",
      "2018-07-23 03:12:52+02:00                    25.55   \n",
      "2018-07-23 03:12:54+02:00                      NaN   \n",
      "2018-07-23 03:12:56+02:00                      NaN   \n",
      "2018-07-23 03:12:58+02:00                      NaN   \n",
      "2018-07-23 03:13:00+02:00                      NaN   \n",
      "2018-07-23 03:13:02+02:00                      NaN   \n",
      "2018-07-23 03:13:04+02:00                      NaN   \n",
      "2018-07-23 03:13:06+02:00                      NaN   \n",
      "2018-07-23 03:13:08+02:00                      NaN   \n",
      "\n",
      "                           External Temperature_TEMPERATURE  \\\n",
      "Time                                                          \n",
      "2018-07-22 21:12:38+02:00                            28.060   \n",
      "2018-07-22 21:12:40+02:00                            28.090   \n",
      "2018-07-22 21:12:42+02:00                            28.074   \n",
      "2018-07-22 21:12:44+02:00                            28.103   \n",
      "2018-07-22 21:12:46+02:00                            28.103   \n",
      "2018-07-22 21:12:48+02:00                            28.103   \n",
      "2018-07-22 21:12:50+02:00                            28.116   \n",
      "2018-07-22 21:12:52+02:00                            28.090   \n",
      "2018-07-22 21:12:54+02:00                            28.103   \n",
      "2018-07-22 21:12:56+02:00                            28.103   \n",
      "2018-07-22 21:12:58+02:00                            28.116   \n",
      "2018-07-22 21:13:00+02:00                            28.116   \n",
      "2018-07-22 21:13:02+02:00                            28.116   \n",
      "2018-07-22 21:13:04+02:00                            28.033   \n",
      "2018-07-22 21:13:06+02:00                            28.074   \n",
      "2018-07-22 21:13:08+02:00                            28.074   \n",
      "2018-07-22 21:13:10+02:00                            27.959   \n",
      "2018-07-22 21:13:12+02:00                            28.033   \n",
      "2018-07-22 21:13:14+02:00                            28.047   \n",
      "2018-07-22 21:13:16+02:00                            28.033   \n",
      "2018-07-22 21:13:18+02:00                            28.033   \n",
      "2018-07-22 21:13:20+02:00                            28.033   \n",
      "2018-07-22 21:13:22+02:00                            28.047   \n",
      "2018-07-22 21:13:24+02:00                            28.047   \n",
      "2018-07-22 21:13:26+02:00                            28.033   \n",
      "2018-07-22 21:13:28+02:00                            28.017   \n",
      "2018-07-22 21:13:30+02:00                            28.033   \n",
      "2018-07-22 21:13:32+02:00                            28.004   \n",
      "2018-07-22 21:13:34+02:00                            27.991   \n",
      "2018-07-22 21:13:36+02:00                            28.017   \n",
      "...                                                     ...   \n",
      "2018-07-23 03:12:10+02:00                            24.482   \n",
      "2018-07-23 03:12:12+02:00                            24.482   \n",
      "2018-07-23 03:12:14+02:00                            24.469   \n",
      "2018-07-23 03:12:16+02:00                            24.455   \n",
      "2018-07-23 03:12:18+02:00                            24.469   \n",
      "2018-07-23 03:12:20+02:00                            24.455   \n",
      "2018-07-23 03:12:22+02:00                            24.455   \n",
      "2018-07-23 03:12:24+02:00                            24.482   \n",
      "2018-07-23 03:12:26+02:00                            24.469   \n",
      "2018-07-23 03:12:28+02:00                            24.469   \n",
      "2018-07-23 03:12:30+02:00                            24.455   \n",
      "2018-07-23 03:12:32+02:00                            24.469   \n",
      "2018-07-23 03:12:34+02:00                            24.482   \n",
      "2018-07-23 03:12:36+02:00                            24.469   \n",
      "2018-07-23 03:12:38+02:00                            24.469   \n",
      "2018-07-23 03:12:40+02:00                            24.495   \n",
      "2018-07-23 03:12:42+02:00                            24.482   \n",
      "2018-07-23 03:12:44+02:00                            24.469   \n",
      "2018-07-23 03:12:46+02:00                            24.482   \n",
      "2018-07-23 03:12:48+02:00                            24.495   \n",
      "2018-07-23 03:12:50+02:00                            24.482   \n",
      "2018-07-23 03:12:52+02:00                            24.469   \n",
      "2018-07-23 03:12:54+02:00                               NaN   \n",
      "2018-07-23 03:12:56+02:00                               NaN   \n",
      "2018-07-23 03:12:58+02:00                               NaN   \n",
      "2018-07-23 03:13:00+02:00                               NaN   \n",
      "2018-07-23 03:13:02+02:00                               NaN   \n",
      "2018-07-23 03:13:04+02:00                               NaN   \n",
      "2018-07-23 03:13:06+02:00                               NaN   \n",
      "2018-07-23 03:13:08+02:00                               NaN   \n",
      "\n",
      "                           Humidity_TEMPERATURE  External Humidity_TEMPERATURE  \n",
      "Time                                                                            \n",
      "2018-07-22 21:12:38+02:00                 53.33                         60.070  \n",
      "2018-07-22 21:12:40+02:00                 53.19                         59.998  \n",
      "2018-07-22 21:12:42+02:00                 53.11                         59.957  \n",
      "2018-07-22 21:12:44+02:00                 53.02                         59.878  \n",
      "2018-07-22 21:12:46+02:00                 52.96                         59.866  \n",
      "2018-07-22 21:12:48+02:00                 52.90                         59.828  \n",
      "2018-07-22 21:12:50+02:00                 52.83                         59.760  \n",
      "2018-07-22 21:12:52+02:00                 52.76                         59.756  \n",
      "2018-07-22 21:12:54+02:00                 52.71                         59.805  \n",
      "2018-07-22 21:12:56+02:00                 52.70                         59.759  \n",
      "2018-07-22 21:12:58+02:00                 52.59                         59.709  \n",
      "2018-07-22 21:13:00+02:00                 52.55                         59.673  \n",
      "2018-07-22 21:13:02+02:00                 52.50                         59.701  \n",
      "2018-07-22 21:13:04+02:00                 52.43                         59.637  \n",
      "2018-07-22 21:13:06+02:00                 52.34                         59.667  \n",
      "2018-07-22 21:13:08+02:00                 52.32                         59.644  \n",
      "2018-07-22 21:13:10+02:00                 52.29                         59.641  \n",
      "2018-07-22 21:13:12+02:00                 52.34                         59.710  \n",
      "2018-07-22 21:13:14+02:00                 52.29                         59.713  \n",
      "2018-07-22 21:13:16+02:00                 52.27                         59.654  \n",
      "2018-07-22 21:13:18+02:00                 52.21                         59.567  \n",
      "2018-07-22 21:13:20+02:00                 52.19                         59.532  \n",
      "2018-07-22 21:13:22+02:00                 52.22                         59.571  \n",
      "2018-07-22 21:13:24+02:00                 52.22                         59.596  \n",
      "2018-07-22 21:13:26+02:00                 52.22                         59.619  \n",
      "2018-07-22 21:13:28+02:00                 52.17                         59.637  \n",
      "2018-07-22 21:13:30+02:00                 52.12                         59.590  \n",
      "2018-07-22 21:13:32+02:00                 52.14                         59.527  \n",
      "2018-07-22 21:13:34+02:00                 52.09                         59.577  \n",
      "2018-07-22 21:13:36+02:00                 52.08                         59.545  \n",
      "...                                         ...                            ...  \n",
      "2018-07-23 03:12:10+02:00                 69.68                         75.229  \n",
      "2018-07-23 03:12:12+02:00                 69.67                         75.216  \n",
      "2018-07-23 03:12:14+02:00                 69.72                         75.267  \n",
      "2018-07-23 03:12:16+02:00                 69.72                         75.247  \n",
      "2018-07-23 03:12:18+02:00                 69.70                         75.261  \n",
      "2018-07-23 03:12:20+02:00                 69.69                         75.251  \n",
      "2018-07-23 03:12:22+02:00                 69.71                         75.248  \n",
      "2018-07-23 03:12:24+02:00                 69.68                         75.235  \n",
      "2018-07-23 03:12:26+02:00                 69.67                         75.180  \n",
      "2018-07-23 03:12:28+02:00                 69.69                         75.206  \n",
      "2018-07-23 03:12:30+02:00                 69.67                         75.169  \n",
      "2018-07-23 03:12:32+02:00                 69.68                         75.187  \n",
      "2018-07-23 03:12:34+02:00                 69.63                         75.189  \n",
      "2018-07-23 03:12:36+02:00                 69.62                         75.148  \n",
      "2018-07-23 03:12:38+02:00                 69.62                         75.082  \n",
      "2018-07-23 03:12:40+02:00                 69.59                         75.134  \n",
      "2018-07-23 03:12:42+02:00                 69.60                         75.109  \n",
      "2018-07-23 03:12:44+02:00                 69.59                         75.088  \n",
      "2018-07-23 03:12:46+02:00                 69.56                         75.056  \n",
      "2018-07-23 03:12:48+02:00                 69.56                         75.023  \n",
      "2018-07-23 03:12:50+02:00                 69.52                         75.061  \n",
      "2018-07-23 03:12:52+02:00                 69.52                         75.038  \n",
      "2018-07-23 03:12:54+02:00                   NaN                            NaN  \n",
      "2018-07-23 03:12:56+02:00                   NaN                            NaN  \n",
      "2018-07-23 03:12:58+02:00                   NaN                            NaN  \n",
      "2018-07-23 03:13:00+02:00                   NaN                            NaN  \n",
      "2018-07-23 03:13:02+02:00                   NaN                            NaN  \n",
      "2018-07-23 03:13:04+02:00                   NaN                            NaN  \n",
      "2018-07-23 03:13:06+02:00                   NaN                            NaN  \n",
      "2018-07-23 03:13:08+02:00                   NaN                            NaN  \n",
      "\n",
      "[10816 rows x 6 columns]\n"
     ]
    },
    {
     "name": "stdout",
     "output_type": "stream",
     "text": [
      "2018-07_INT_TEMP_CALIB_CASE_NIGHT_25degC\n",
      "Index([u'Current', u'ON_OFF'], dtype='object')\n",
      "['CURRENT', 'TEMPERATURE']\n",
      "                           Current_CURRENT  ON_OFF_CURRENT  \\\n",
      "Time                                                         \n",
      "2018-07-23 03:20:40+02:00             60.7             1.0   \n",
      "2018-07-23 03:20:42+02:00             60.4             1.0   \n",
      "2018-07-23 03:20:44+02:00             60.1             1.0   \n",
      "2018-07-23 03:20:46+02:00             60.7             1.0   \n",
      "2018-07-23 03:20:48+02:00             60.3             1.0   \n",
      "2018-07-23 03:20:50+02:00             60.4             1.0   \n",
      "2018-07-23 03:20:52+02:00             59.8             1.0   \n",
      "2018-07-23 03:20:54+02:00             60.8             1.0   \n",
      "2018-07-23 03:20:56+02:00             62.3             1.0   \n",
      "2018-07-23 03:20:58+02:00             59.3             1.0   \n",
      "2018-07-23 03:21:00+02:00             60.1             1.0   \n",
      "2018-07-23 03:21:02+02:00             60.3             1.0   \n",
      "2018-07-23 03:21:04+02:00             60.5             1.0   \n",
      "2018-07-23 03:21:06+02:00             60.0             1.0   \n",
      "2018-07-23 03:21:08+02:00            118.0             1.0   \n",
      "2018-07-23 03:21:10+02:00            123.1             1.0   \n",
      "2018-07-23 03:21:12+02:00             62.7             1.0   \n",
      "2018-07-23 03:21:14+02:00             59.6             1.0   \n",
      "2018-07-23 03:21:16+02:00             61.9             1.0   \n",
      "2018-07-23 03:21:18+02:00             61.4             1.0   \n",
      "2018-07-23 03:21:20+02:00             60.9             1.0   \n",
      "2018-07-23 03:21:22+02:00             61.4             1.0   \n",
      "2018-07-23 03:21:24+02:00             63.5             1.0   \n",
      "2018-07-23 03:21:26+02:00             61.2             1.0   \n",
      "2018-07-23 03:21:28+02:00             60.4             1.0   \n",
      "2018-07-23 03:21:30+02:00             60.8             1.0   \n",
      "2018-07-23 03:21:32+02:00             61.4             1.0   \n",
      "2018-07-23 03:21:34+02:00             60.9             1.0   \n",
      "2018-07-23 03:21:36+02:00             59.7             1.0   \n",
      "2018-07-23 03:21:38+02:00             61.9             1.0   \n",
      "...                                    ...             ...   \n",
      "2018-07-23 09:46:58+02:00             60.3             1.0   \n",
      "2018-07-23 09:47:00+02:00             61.9             1.0   \n",
      "2018-07-23 09:47:02+02:00             60.0             1.0   \n",
      "2018-07-23 09:47:04+02:00             59.6             1.0   \n",
      "2018-07-23 09:47:06+02:00             59.7             1.0   \n",
      "2018-07-23 09:47:08+02:00             59.1             1.0   \n",
      "2018-07-23 09:47:10+02:00             59.1             1.0   \n",
      "2018-07-23 09:47:12+02:00             59.8             1.0   \n",
      "2018-07-23 09:47:14+02:00             59.6             1.0   \n",
      "2018-07-23 09:47:16+02:00             59.6             1.0   \n",
      "2018-07-23 09:47:18+02:00             59.3             1.0   \n",
      "2018-07-23 09:47:20+02:00             59.2             1.0   \n",
      "2018-07-23 09:47:22+02:00             59.7             1.0   \n",
      "2018-07-23 09:47:24+02:00             59.2             1.0   \n",
      "2018-07-23 09:47:26+02:00             59.5             1.0   \n",
      "2018-07-23 09:47:28+02:00             60.0             1.0   \n",
      "2018-07-23 09:47:30+02:00             60.2             1.0   \n",
      "2018-07-23 09:47:32+02:00             60.1             1.0   \n",
      "2018-07-23 09:47:34+02:00             59.3             1.0   \n",
      "2018-07-23 09:47:36+02:00             59.5             1.0   \n",
      "2018-07-23 09:47:38+02:00             60.3             1.0   \n",
      "2018-07-23 09:47:40+02:00             59.9             1.0   \n",
      "2018-07-23 09:47:42+02:00             60.1             1.0   \n",
      "2018-07-23 09:47:44+02:00             59.7             1.0   \n",
      "2018-07-23 09:47:46+02:00             61.9             1.0   \n",
      "2018-07-23 09:47:48+02:00             59.6             1.0   \n",
      "2018-07-23 09:47:50+02:00             58.8             1.0   \n",
      "2018-07-23 09:47:52+02:00             59.8             1.0   \n",
      "2018-07-23 09:47:54+02:00             60.4             1.0   \n",
      "2018-07-23 09:47:56+02:00             59.3             1.0   \n",
      "\n",
      "                           Miliseconds_TEMPERATURE  Temperature_TEMPERATURE  \\\n",
      "Time                                                                          \n",
      "2018-07-23 03:20:40+02:00                     32.0                    24.95   \n",
      "2018-07-23 03:20:42+02:00                     32.0                    24.98   \n",
      "2018-07-23 03:20:44+02:00                     32.0                    25.01   \n",
      "2018-07-23 03:20:46+02:00                     32.0                    25.02   \n",
      "2018-07-23 03:20:48+02:00                     33.0                    25.07   \n",
      "2018-07-23 03:20:50+02:00                     32.0                    25.11   \n",
      "2018-07-23 03:20:52+02:00                     33.0                    25.15   \n",
      "2018-07-23 03:20:54+02:00                     32.0                    25.17   \n",
      "2018-07-23 03:20:56+02:00                     32.0                    25.19   \n",
      "2018-07-23 03:20:58+02:00                     32.0                    25.22   \n",
      "2018-07-23 03:21:00+02:00                     32.0                    25.28   \n",
      "2018-07-23 03:21:02+02:00                     32.0                    25.32   \n",
      "2018-07-23 03:21:04+02:00                     32.0                    25.36   \n",
      "2018-07-23 03:21:06+02:00                     32.0                    25.38   \n",
      "2018-07-23 03:21:08+02:00                     32.0                    25.42   \n",
      "2018-07-23 03:21:10+02:00                     31.0                    25.47   \n",
      "2018-07-23 03:21:12+02:00                     32.0                    25.43   \n",
      "2018-07-23 03:21:14+02:00                     32.0                    25.55   \n",
      "2018-07-23 03:21:16+02:00                     32.0                    25.59   \n",
      "2018-07-23 03:21:18+02:00                     32.0                    25.64   \n",
      "2018-07-23 03:21:20+02:00                     32.0                    25.66   \n",
      "2018-07-23 03:21:22+02:00                     32.0                    25.69   \n",
      "2018-07-23 03:21:24+02:00                     32.0                    25.73   \n",
      "2018-07-23 03:21:26+02:00                     32.0                    25.76   \n",
      "2018-07-23 03:21:28+02:00                     32.0                    25.80   \n",
      "2018-07-23 03:21:30+02:00                     32.0                    25.83   \n",
      "2018-07-23 03:21:32+02:00                     32.0                    25.87   \n",
      "2018-07-23 03:21:34+02:00                     32.0                    25.90   \n",
      "2018-07-23 03:21:36+02:00                     32.0                    25.93   \n",
      "2018-07-23 03:21:38+02:00                     32.0                    25.95   \n",
      "...                                            ...                      ...   \n",
      "2018-07-23 09:46:58+02:00                      NaN                      NaN   \n",
      "2018-07-23 09:47:00+02:00                      NaN                      NaN   \n",
      "2018-07-23 09:47:02+02:00                      NaN                      NaN   \n",
      "2018-07-23 09:47:04+02:00                      NaN                      NaN   \n",
      "2018-07-23 09:47:06+02:00                      NaN                      NaN   \n",
      "2018-07-23 09:47:08+02:00                      NaN                      NaN   \n",
      "2018-07-23 09:47:10+02:00                      NaN                      NaN   \n",
      "2018-07-23 09:47:12+02:00                      NaN                      NaN   \n",
      "2018-07-23 09:47:14+02:00                      NaN                      NaN   \n",
      "2018-07-23 09:47:16+02:00                      NaN                      NaN   \n",
      "2018-07-23 09:47:18+02:00                      NaN                      NaN   \n",
      "2018-07-23 09:47:20+02:00                      NaN                      NaN   \n",
      "2018-07-23 09:47:22+02:00                      NaN                      NaN   \n",
      "2018-07-23 09:47:24+02:00                      NaN                      NaN   \n",
      "2018-07-23 09:47:26+02:00                      NaN                      NaN   \n",
      "2018-07-23 09:47:28+02:00                      NaN                      NaN   \n",
      "2018-07-23 09:47:30+02:00                      NaN                      NaN   \n",
      "2018-07-23 09:47:32+02:00                      NaN                      NaN   \n",
      "2018-07-23 09:47:34+02:00                      NaN                      NaN   \n",
      "2018-07-23 09:47:36+02:00                      NaN                      NaN   \n",
      "2018-07-23 09:47:38+02:00                      NaN                      NaN   \n",
      "2018-07-23 09:47:40+02:00                      NaN                      NaN   \n",
      "2018-07-23 09:47:42+02:00                      NaN                      NaN   \n",
      "2018-07-23 09:47:44+02:00                      NaN                      NaN   \n",
      "2018-07-23 09:47:46+02:00                      NaN                      NaN   \n",
      "2018-07-23 09:47:48+02:00                      NaN                      NaN   \n",
      "2018-07-23 09:47:50+02:00                      NaN                      NaN   \n",
      "2018-07-23 09:47:52+02:00                      NaN                      NaN   \n",
      "2018-07-23 09:47:54+02:00                      NaN                      NaN   \n",
      "2018-07-23 09:47:56+02:00                      NaN                      NaN   \n",
      "\n",
      "                           External Temperature_TEMPERATURE  \\\n",
      "Time                                                          \n",
      "2018-07-23 03:20:40+02:00                            26.284   \n",
      "2018-07-23 03:20:42+02:00                            26.228   \n",
      "2018-07-23 03:20:44+02:00                            26.159   \n",
      "2018-07-23 03:20:46+02:00                            26.057   \n",
      "2018-07-23 03:20:48+02:00                            26.031   \n",
      "2018-07-23 03:20:50+02:00                            26.001   \n",
      "2018-07-23 03:20:52+02:00                            25.975   \n",
      "2018-07-23 03:20:54+02:00                            25.945   \n",
      "2018-07-23 03:20:56+02:00                            25.919   \n",
      "2018-07-23 03:20:58+02:00                            25.849   \n",
      "2018-07-23 03:21:00+02:00                            25.849   \n",
      "2018-07-23 03:21:02+02:00                            25.849   \n",
      "2018-07-23 03:21:04+02:00                            25.806   \n",
      "2018-07-23 03:21:06+02:00                            25.721   \n",
      "2018-07-23 03:21:08+02:00                            25.734   \n",
      "2018-07-23 03:21:10+02:00                            25.721   \n",
      "2018-07-23 03:21:12+02:00                            25.595   \n",
      "2018-07-23 03:21:14+02:00                            25.638   \n",
      "2018-07-23 03:21:16+02:00                            25.622   \n",
      "2018-07-23 03:21:18+02:00                            25.595   \n",
      "2018-07-23 03:21:20+02:00                            25.553   \n",
      "2018-07-23 03:21:22+02:00                            25.507   \n",
      "2018-07-23 03:21:24+02:00                            25.507   \n",
      "2018-07-23 03:21:26+02:00                            25.467   \n",
      "2018-07-23 03:21:28+02:00                            25.425   \n",
      "2018-07-23 03:21:30+02:00                            25.425   \n",
      "2018-07-23 03:21:32+02:00                            25.382   \n",
      "2018-07-23 03:21:34+02:00                            25.382   \n",
      "2018-07-23 03:21:36+02:00                            25.369   \n",
      "2018-07-23 03:21:38+02:00                            25.355   \n",
      "...                                                     ...   \n",
      "2018-07-23 09:46:58+02:00                               NaN   \n",
      "2018-07-23 09:47:00+02:00                               NaN   \n",
      "2018-07-23 09:47:02+02:00                               NaN   \n",
      "2018-07-23 09:47:04+02:00                               NaN   \n",
      "2018-07-23 09:47:06+02:00                               NaN   \n",
      "2018-07-23 09:47:08+02:00                               NaN   \n",
      "2018-07-23 09:47:10+02:00                               NaN   \n",
      "2018-07-23 09:47:12+02:00                               NaN   \n",
      "2018-07-23 09:47:14+02:00                               NaN   \n",
      "2018-07-23 09:47:16+02:00                               NaN   \n",
      "2018-07-23 09:47:18+02:00                               NaN   \n",
      "2018-07-23 09:47:20+02:00                               NaN   \n",
      "2018-07-23 09:47:22+02:00                               NaN   \n",
      "2018-07-23 09:47:24+02:00                               NaN   \n",
      "2018-07-23 09:47:26+02:00                               NaN   \n",
      "2018-07-23 09:47:28+02:00                               NaN   \n",
      "2018-07-23 09:47:30+02:00                               NaN   \n",
      "2018-07-23 09:47:32+02:00                               NaN   \n",
      "2018-07-23 09:47:34+02:00                               NaN   \n",
      "2018-07-23 09:47:36+02:00                               NaN   \n",
      "2018-07-23 09:47:38+02:00                               NaN   \n",
      "2018-07-23 09:47:40+02:00                               NaN   \n",
      "2018-07-23 09:47:42+02:00                               NaN   \n",
      "2018-07-23 09:47:44+02:00                               NaN   \n",
      "2018-07-23 09:47:46+02:00                               NaN   \n",
      "2018-07-23 09:47:48+02:00                               NaN   \n",
      "2018-07-23 09:47:50+02:00                               NaN   \n",
      "2018-07-23 09:47:52+02:00                               NaN   \n",
      "2018-07-23 09:47:54+02:00                               NaN   \n",
      "2018-07-23 09:47:56+02:00                               NaN   \n",
      "\n",
      "                           Humidity_TEMPERATURE  External Humidity_TEMPERATURE  \n",
      "Time                                                                            \n",
      "2018-07-23 03:20:40+02:00                 71.83                         70.068  \n",
      "2018-07-23 03:20:42+02:00                 71.75                         69.935  \n",
      "2018-07-23 03:20:44+02:00                 71.68                         69.734  \n",
      "2018-07-23 03:20:46+02:00                 71.65                         69.557  \n",
      "2018-07-23 03:20:48+02:00                 71.60                         69.583  \n",
      "2018-07-23 03:20:50+02:00                 71.56                         69.715  \n",
      "2018-07-23 03:20:52+02:00                 71.54                         70.100  \n",
      "2018-07-23 03:20:54+02:00                 71.45                         70.202  \n",
      "2018-07-23 03:20:56+02:00                 71.38                         70.118  \n",
      "2018-07-23 03:20:58+02:00                 71.32                         70.196  \n",
      "2018-07-23 03:21:00+02:00                 71.27                         70.262  \n",
      "2018-07-23 03:21:02+02:00                 71.21                         70.294  \n",
      "2018-07-23 03:21:04+02:00                 71.15                         70.297  \n",
      "2018-07-23 03:21:06+02:00                 71.04                         70.475  \n",
      "2018-07-23 03:21:08+02:00                 70.94                         70.544  \n",
      "2018-07-23 03:21:10+02:00                 70.88                         70.603  \n",
      "2018-07-23 03:21:12+02:00                 70.75                         70.678  \n",
      "2018-07-23 03:21:14+02:00                 70.70                         70.871  \n",
      "2018-07-23 03:21:16+02:00                 70.62                         70.939  \n",
      "2018-07-23 03:21:18+02:00                 70.49                         71.054  \n",
      "2018-07-23 03:21:20+02:00                 70.40                         71.112  \n",
      "2018-07-23 03:21:22+02:00                 70.31                         71.254  \n",
      "2018-07-23 03:21:24+02:00                 70.17                         71.496  \n",
      "2018-07-23 03:21:26+02:00                 70.10                         71.670  \n",
      "2018-07-23 03:21:28+02:00                 69.98                         71.693  \n",
      "2018-07-23 03:21:30+02:00                 69.87                         71.667  \n",
      "2018-07-23 03:21:32+02:00                 69.79                         71.766  \n",
      "2018-07-23 03:21:34+02:00                 69.68                         71.995  \n",
      "2018-07-23 03:21:36+02:00                 69.61                         72.042  \n",
      "2018-07-23 03:21:38+02:00                 69.54                         72.088  \n",
      "...                                         ...                            ...  \n",
      "2018-07-23 09:46:58+02:00                   NaN                            NaN  \n",
      "2018-07-23 09:47:00+02:00                   NaN                            NaN  \n",
      "2018-07-23 09:47:02+02:00                   NaN                            NaN  \n",
      "2018-07-23 09:47:04+02:00                   NaN                            NaN  \n",
      "2018-07-23 09:47:06+02:00                   NaN                            NaN  \n",
      "2018-07-23 09:47:08+02:00                   NaN                            NaN  \n",
      "2018-07-23 09:47:10+02:00                   NaN                            NaN  \n",
      "2018-07-23 09:47:12+02:00                   NaN                            NaN  \n",
      "2018-07-23 09:47:14+02:00                   NaN                            NaN  \n",
      "2018-07-23 09:47:16+02:00                   NaN                            NaN  \n",
      "2018-07-23 09:47:18+02:00                   NaN                            NaN  \n",
      "2018-07-23 09:47:20+02:00                   NaN                            NaN  \n",
      "2018-07-23 09:47:22+02:00                   NaN                            NaN  \n",
      "2018-07-23 09:47:24+02:00                   NaN                            NaN  \n",
      "2018-07-23 09:47:26+02:00                   NaN                            NaN  \n",
      "2018-07-23 09:47:28+02:00                   NaN                            NaN  \n",
      "2018-07-23 09:47:30+02:00                   NaN                            NaN  \n",
      "2018-07-23 09:47:32+02:00                   NaN                            NaN  \n",
      "2018-07-23 09:47:34+02:00                   NaN                            NaN  \n",
      "2018-07-23 09:47:36+02:00                   NaN                            NaN  \n",
      "2018-07-23 09:47:38+02:00                   NaN                            NaN  \n",
      "2018-07-23 09:47:40+02:00                   NaN                            NaN  \n",
      "2018-07-23 09:47:42+02:00                   NaN                            NaN  \n",
      "2018-07-23 09:47:44+02:00                   NaN                            NaN  \n",
      "2018-07-23 09:47:46+02:00                   NaN                            NaN  \n",
      "2018-07-23 09:47:48+02:00                   NaN                            NaN  \n",
      "2018-07-23 09:47:50+02:00                   NaN                            NaN  \n",
      "2018-07-23 09:47:52+02:00                   NaN                            NaN  \n",
      "2018-07-23 09:47:54+02:00                   NaN                            NaN  \n",
      "2018-07-23 09:47:56+02:00                   NaN                            NaN  \n",
      "\n",
      "[11619 rows x 7 columns]\n"
     ]
    },
    {
     "name": "stdout",
     "output_type": "stream",
     "text": [
      "2018-07_INT_TEMP_CALIB_CASE_25degC\n",
      "Index([u'Current', u'ON_OFF'], dtype='object')\n",
      "['CURRENT', 'TEMPERATURE']\n",
      "                           Current_CURRENT  ON_OFF_CURRENT  \\\n",
      "Time                                                         \n",
      "2018-07-22 14:16:40+02:00             60.8             1.0   \n",
      "2018-07-22 14:16:42+02:00             60.0             1.0   \n",
      "2018-07-22 14:16:44+02:00             60.2             1.0   \n",
      "2018-07-22 14:16:46+02:00              NaN             1.0   \n",
      "2018-07-22 14:16:48+02:00             61.4             1.0   \n",
      "2018-07-22 14:16:50+02:00             61.5             1.0   \n",
      "2018-07-22 14:16:52+02:00             60.5             1.0   \n",
      "2018-07-22 14:16:54+02:00             60.6             1.0   \n",
      "2018-07-22 14:16:56+02:00             61.3             1.0   \n",
      "2018-07-22 14:16:58+02:00             60.8             1.0   \n",
      "2018-07-22 14:17:00+02:00             60.4             1.0   \n",
      "2018-07-22 14:17:02+02:00             60.2             1.0   \n",
      "2018-07-22 14:17:04+02:00             61.5             1.0   \n",
      "2018-07-22 14:17:06+02:00             60.1             1.0   \n",
      "2018-07-22 14:17:08+02:00             60.5             1.0   \n",
      "2018-07-22 14:17:10+02:00            121.0             1.0   \n",
      "2018-07-22 14:17:12+02:00            119.3             1.0   \n",
      "2018-07-22 14:17:14+02:00             63.8             1.0   \n",
      "2018-07-22 14:17:16+02:00             61.0             1.0   \n",
      "2018-07-22 14:17:18+02:00             60.3             1.0   \n",
      "2018-07-22 14:17:20+02:00             60.8             1.0   \n",
      "2018-07-22 14:17:22+02:00             61.6             1.0   \n",
      "2018-07-22 14:17:24+02:00             59.8             1.0   \n",
      "2018-07-22 14:17:26+02:00             61.8             1.0   \n",
      "2018-07-22 14:17:28+02:00             61.5             1.0   \n",
      "2018-07-22 14:17:30+02:00             61.0             1.0   \n",
      "2018-07-22 14:17:32+02:00             59.7             1.0   \n",
      "2018-07-22 14:17:34+02:00             60.5             1.0   \n",
      "2018-07-22 14:17:36+02:00             59.1             1.0   \n",
      "2018-07-22 14:17:38+02:00             60.3             1.0   \n",
      "...                                    ...             ...   \n",
      "2018-07-22 21:02:28+02:00             59.5             1.0   \n",
      "2018-07-22 21:02:30+02:00             60.0             1.0   \n",
      "2018-07-22 21:02:32+02:00             59.0             1.0   \n",
      "2018-07-22 21:02:34+02:00             60.2             1.0   \n",
      "2018-07-22 21:02:36+02:00             60.0             1.0   \n",
      "2018-07-22 21:02:38+02:00             60.9             1.0   \n",
      "2018-07-22 21:02:40+02:00             59.7             1.0   \n",
      "2018-07-22 21:02:42+02:00             62.4             1.0   \n",
      "2018-07-22 21:02:44+02:00             59.5             1.0   \n",
      "2018-07-22 21:02:46+02:00             58.6             1.0   \n",
      "2018-07-22 21:02:48+02:00             59.5             1.0   \n",
      "2018-07-22 21:02:50+02:00             59.5             1.0   \n",
      "2018-07-22 21:02:52+02:00             59.0             1.0   \n",
      "2018-07-22 21:02:54+02:00             60.2             1.0   \n",
      "2018-07-22 21:02:56+02:00             58.9             1.0   \n",
      "2018-07-22 21:02:58+02:00             59.8             1.0   \n",
      "2018-07-22 21:03:00+02:00             59.8             1.0   \n",
      "2018-07-22 21:03:02+02:00             60.1             1.0   \n",
      "2018-07-22 21:03:04+02:00             59.3             1.0   \n",
      "2018-07-22 21:03:06+02:00             59.5             1.0   \n",
      "2018-07-22 21:03:08+02:00             62.5             1.0   \n",
      "2018-07-22 21:03:10+02:00             60.4             1.0   \n",
      "2018-07-22 21:03:12+02:00             60.6             1.0   \n",
      "2018-07-22 21:03:14+02:00             60.4             1.0   \n",
      "2018-07-22 21:03:16+02:00             59.5             1.0   \n",
      "2018-07-22 21:03:18+02:00             59.9             1.0   \n",
      "2018-07-22 21:03:20+02:00             60.4             1.0   \n",
      "2018-07-22 21:03:22+02:00             59.3             1.0   \n",
      "2018-07-22 21:03:24+02:00             59.8             1.0   \n",
      "2018-07-22 21:03:26+02:00             59.6             1.0   \n",
      "\n",
      "                           Temperature_TEMPERATURE  \\\n",
      "Time                                                 \n",
      "2018-07-22 14:16:40+02:00                      NaN   \n",
      "2018-07-22 14:16:42+02:00                    28.57   \n",
      "2018-07-22 14:16:44+02:00                    28.59   \n",
      "2018-07-22 14:16:46+02:00                    28.62   \n",
      "2018-07-22 14:16:48+02:00                    28.63   \n",
      "2018-07-22 14:16:50+02:00                    28.63   \n",
      "2018-07-22 14:16:52+02:00                    28.63   \n",
      "2018-07-22 14:16:54+02:00                    28.66   \n",
      "2018-07-22 14:16:56+02:00                    28.67   \n",
      "2018-07-22 14:16:58+02:00                    28.72   \n",
      "2018-07-22 14:17:00+02:00                    28.72   \n",
      "2018-07-22 14:17:02+02:00                    28.72   \n",
      "2018-07-22 14:17:04+02:00                    28.73   \n",
      "2018-07-22 14:17:06+02:00                    28.76   \n",
      "2018-07-22 14:17:08+02:00                    28.73   \n",
      "2018-07-22 14:17:10+02:00                    28.79   \n",
      "2018-07-22 14:17:12+02:00                    28.81   \n",
      "2018-07-22 14:17:14+02:00                    28.77   \n",
      "2018-07-22 14:17:16+02:00                    28.86   \n",
      "2018-07-22 14:17:18+02:00                    28.89   \n",
      "2018-07-22 14:17:20+02:00                    28.91   \n",
      "2018-07-22 14:17:22+02:00                    28.91   \n",
      "2018-07-22 14:17:24+02:00                    28.90   \n",
      "2018-07-22 14:17:26+02:00                    28.97   \n",
      "2018-07-22 14:17:28+02:00                    28.97   \n",
      "2018-07-22 14:17:30+02:00                    29.00   \n",
      "2018-07-22 14:17:32+02:00                    29.01   \n",
      "2018-07-22 14:17:34+02:00                    29.02   \n",
      "2018-07-22 14:17:36+02:00                    29.07   \n",
      "2018-07-22 14:17:38+02:00                    29.08   \n",
      "...                                            ...   \n",
      "2018-07-22 21:02:28+02:00                      NaN   \n",
      "2018-07-22 21:02:30+02:00                      NaN   \n",
      "2018-07-22 21:02:32+02:00                      NaN   \n",
      "2018-07-22 21:02:34+02:00                      NaN   \n",
      "2018-07-22 21:02:36+02:00                      NaN   \n",
      "2018-07-22 21:02:38+02:00                      NaN   \n",
      "2018-07-22 21:02:40+02:00                      NaN   \n",
      "2018-07-22 21:02:42+02:00                      NaN   \n",
      "2018-07-22 21:02:44+02:00                      NaN   \n",
      "2018-07-22 21:02:46+02:00                      NaN   \n",
      "2018-07-22 21:02:48+02:00                      NaN   \n",
      "2018-07-22 21:02:50+02:00                      NaN   \n",
      "2018-07-22 21:02:52+02:00                      NaN   \n",
      "2018-07-22 21:02:54+02:00                      NaN   \n",
      "2018-07-22 21:02:56+02:00                      NaN   \n",
      "2018-07-22 21:02:58+02:00                      NaN   \n",
      "2018-07-22 21:03:00+02:00                      NaN   \n",
      "2018-07-22 21:03:02+02:00                      NaN   \n",
      "2018-07-22 21:03:04+02:00                      NaN   \n",
      "2018-07-22 21:03:06+02:00                      NaN   \n",
      "2018-07-22 21:03:08+02:00                      NaN   \n",
      "2018-07-22 21:03:10+02:00                      NaN   \n",
      "2018-07-22 21:03:12+02:00                      NaN   \n",
      "2018-07-22 21:03:14+02:00                      NaN   \n",
      "2018-07-22 21:03:16+02:00                      NaN   \n",
      "2018-07-22 21:03:18+02:00                      NaN   \n",
      "2018-07-22 21:03:20+02:00                      NaN   \n",
      "2018-07-22 21:03:22+02:00                      NaN   \n",
      "2018-07-22 21:03:24+02:00                      NaN   \n",
      "2018-07-22 21:03:26+02:00                      NaN   \n",
      "\n",
      "                           External Temperature_TEMPERATURE  \\\n",
      "Time                                                          \n",
      "2018-07-22 14:16:40+02:00                               NaN   \n",
      "2018-07-22 14:16:42+02:00                            25.919   \n",
      "2018-07-22 14:16:44+02:00                            25.863   \n",
      "2018-07-22 14:16:46+02:00                            25.790   \n",
      "2018-07-22 14:16:48+02:00                            25.678   \n",
      "2018-07-22 14:16:50+02:00                            25.638   \n",
      "2018-07-22 14:16:52+02:00                            25.566   \n",
      "2018-07-22 14:16:54+02:00                            25.539   \n",
      "2018-07-22 14:16:56+02:00                            25.467   \n",
      "2018-07-22 14:16:58+02:00                            25.494   \n",
      "2018-07-22 14:17:00+02:00                            25.523   \n",
      "2018-07-22 14:17:02+02:00                            25.507   \n",
      "2018-07-22 14:17:04+02:00                            25.507   \n",
      "2018-07-22 14:17:06+02:00                            25.523   \n",
      "2018-07-22 14:17:08+02:00                            25.467   \n",
      "2018-07-22 14:17:10+02:00                            25.481   \n",
      "2018-07-22 14:17:12+02:00                            25.507   \n",
      "2018-07-22 14:17:14+02:00                            25.395   \n",
      "2018-07-22 14:17:16+02:00                            25.494   \n",
      "2018-07-22 14:17:18+02:00                            25.494   \n",
      "2018-07-22 14:17:20+02:00                            25.523   \n",
      "2018-07-22 14:17:22+02:00                            25.523   \n",
      "2018-07-22 14:17:24+02:00                            25.539   \n",
      "2018-07-22 14:17:26+02:00                            25.507   \n",
      "2018-07-22 14:17:28+02:00                            25.523   \n",
      "2018-07-22 14:17:30+02:00                            25.539   \n",
      "2018-07-22 14:17:32+02:00                            25.566   \n",
      "2018-07-22 14:17:34+02:00                            25.582   \n",
      "2018-07-22 14:17:36+02:00                            25.609   \n",
      "2018-07-22 14:17:38+02:00                            25.638   \n",
      "...                                                     ...   \n",
      "2018-07-22 21:02:28+02:00                               NaN   \n",
      "2018-07-22 21:02:30+02:00                               NaN   \n",
      "2018-07-22 21:02:32+02:00                               NaN   \n",
      "2018-07-22 21:02:34+02:00                               NaN   \n",
      "2018-07-22 21:02:36+02:00                               NaN   \n",
      "2018-07-22 21:02:38+02:00                               NaN   \n",
      "2018-07-22 21:02:40+02:00                               NaN   \n",
      "2018-07-22 21:02:42+02:00                               NaN   \n",
      "2018-07-22 21:02:44+02:00                               NaN   \n",
      "2018-07-22 21:02:46+02:00                               NaN   \n",
      "2018-07-22 21:02:48+02:00                               NaN   \n",
      "2018-07-22 21:02:50+02:00                               NaN   \n",
      "2018-07-22 21:02:52+02:00                               NaN   \n",
      "2018-07-22 21:02:54+02:00                               NaN   \n",
      "2018-07-22 21:02:56+02:00                               NaN   \n",
      "2018-07-22 21:02:58+02:00                               NaN   \n",
      "2018-07-22 21:03:00+02:00                               NaN   \n",
      "2018-07-22 21:03:02+02:00                               NaN   \n",
      "2018-07-22 21:03:04+02:00                               NaN   \n",
      "2018-07-22 21:03:06+02:00                               NaN   \n",
      "2018-07-22 21:03:08+02:00                               NaN   \n",
      "2018-07-22 21:03:10+02:00                               NaN   \n",
      "2018-07-22 21:03:12+02:00                               NaN   \n",
      "2018-07-22 21:03:14+02:00                               NaN   \n",
      "2018-07-22 21:03:16+02:00                               NaN   \n",
      "2018-07-22 21:03:18+02:00                               NaN   \n",
      "2018-07-22 21:03:20+02:00                               NaN   \n",
      "2018-07-22 21:03:22+02:00                               NaN   \n",
      "2018-07-22 21:03:24+02:00                               NaN   \n",
      "2018-07-22 21:03:26+02:00                               NaN   \n",
      "\n",
      "                           Humidity_TEMPERATURE  External Humidity_TEMPERATURE  \n",
      "Time                                                                            \n",
      "2018-07-22 14:16:40+02:00                   NaN                            NaN  \n",
      "2018-07-22 14:16:42+02:00                 57.64                         65.336  \n",
      "2018-07-22 14:16:44+02:00                 57.61                         65.437  \n",
      "2018-07-22 14:16:46+02:00                 57.60                         65.609  \n",
      "2018-07-22 14:16:48+02:00                 57.59                         65.719  \n",
      "2018-07-22 14:16:50+02:00                 57.55                         65.945  \n",
      "2018-07-22 14:16:52+02:00                 57.51                         66.192  \n",
      "2018-07-22 14:16:54+02:00                 57.55                         66.394  \n",
      "2018-07-22 14:16:56+02:00                 57.51                         66.526  \n",
      "2018-07-22 14:16:58+02:00                 57.44                         66.764  \n",
      "2018-07-22 14:17:00+02:00                 57.40                         66.827  \n",
      "2018-07-22 14:17:02+02:00                 57.32                         66.929  \n",
      "2018-07-22 14:17:04+02:00                 57.32                         66.923  \n",
      "2018-07-22 14:17:06+02:00                 57.30                         66.882  \n",
      "2018-07-22 14:17:08+02:00                 57.17                         66.754  \n",
      "2018-07-22 14:17:10+02:00                 57.14                         66.741  \n",
      "2018-07-22 14:17:12+02:00                 57.01                         66.732  \n",
      "2018-07-22 14:17:14+02:00                 57.02                         66.654  \n",
      "2018-07-22 14:17:16+02:00                 56.94                         66.741  \n",
      "2018-07-22 14:17:18+02:00                 56.88                         66.778  \n",
      "2018-07-22 14:17:20+02:00                 56.86                         66.677  \n",
      "2018-07-22 14:17:22+02:00                 56.77                         66.636  \n",
      "2018-07-22 14:17:24+02:00                 56.68                         66.584  \n",
      "2018-07-22 14:17:26+02:00                 56.61                         66.549  \n",
      "2018-07-22 14:17:28+02:00                 56.51                         66.516  \n",
      "2018-07-22 14:17:30+02:00                 56.48                         66.540  \n",
      "2018-07-22 14:17:32+02:00                 56.43                         66.558  \n",
      "2018-07-22 14:17:34+02:00                 56.39                         66.563  \n",
      "2018-07-22 14:17:36+02:00                 56.34                         66.540  \n",
      "2018-07-22 14:17:38+02:00                 56.31                         66.531  \n",
      "...                                         ...                            ...  \n",
      "2018-07-22 21:02:28+02:00                   NaN                            NaN  \n",
      "2018-07-22 21:02:30+02:00                   NaN                            NaN  \n",
      "2018-07-22 21:02:32+02:00                   NaN                            NaN  \n",
      "2018-07-22 21:02:34+02:00                   NaN                            NaN  \n",
      "2018-07-22 21:02:36+02:00                   NaN                            NaN  \n",
      "2018-07-22 21:02:38+02:00                   NaN                            NaN  \n",
      "2018-07-22 21:02:40+02:00                   NaN                            NaN  \n",
      "2018-07-22 21:02:42+02:00                   NaN                            NaN  \n",
      "2018-07-22 21:02:44+02:00                   NaN                            NaN  \n",
      "2018-07-22 21:02:46+02:00                   NaN                            NaN  \n",
      "2018-07-22 21:02:48+02:00                   NaN                            NaN  \n",
      "2018-07-22 21:02:50+02:00                   NaN                            NaN  \n",
      "2018-07-22 21:02:52+02:00                   NaN                            NaN  \n",
      "2018-07-22 21:02:54+02:00                   NaN                            NaN  \n",
      "2018-07-22 21:02:56+02:00                   NaN                            NaN  \n",
      "2018-07-22 21:02:58+02:00                   NaN                            NaN  \n",
      "2018-07-22 21:03:00+02:00                   NaN                            NaN  \n",
      "2018-07-22 21:03:02+02:00                   NaN                            NaN  \n",
      "2018-07-22 21:03:04+02:00                   NaN                            NaN  \n",
      "2018-07-22 21:03:06+02:00                   NaN                            NaN  \n",
      "2018-07-22 21:03:08+02:00                   NaN                            NaN  \n",
      "2018-07-22 21:03:10+02:00                   NaN                            NaN  \n",
      "2018-07-22 21:03:12+02:00                   NaN                            NaN  \n",
      "2018-07-22 21:03:14+02:00                   NaN                            NaN  \n",
      "2018-07-22 21:03:16+02:00                   NaN                            NaN  \n",
      "2018-07-22 21:03:18+02:00                   NaN                            NaN  \n",
      "2018-07-22 21:03:20+02:00                   NaN                            NaN  \n",
      "2018-07-22 21:03:22+02:00                   NaN                            NaN  \n",
      "2018-07-22 21:03:24+02:00                   NaN                            NaN  \n",
      "2018-07-22 21:03:26+02:00                   NaN                            NaN  \n",
      "\n",
      "[12204 rows x 6 columns]\n"
     ]
    },
    {
     "name": "stdout",
     "output_type": "stream",
     "text": [
      "2018-07_INT_TEMP_CALIB_FRIDGE_5-10degC\n",
      "Index([u'Current', u'ON_OFF'], dtype='object')\n",
      "['CURRENT', 'TEMPERATURE']\n",
      "                           Current_CURRENT  ON_OFF_CURRENT  \\\n",
      "Time                                                         \n",
      "2018-07-21 17:06:20+02:00             60.5             1.0   \n",
      "2018-07-21 17:06:22+02:00             61.4             1.0   \n",
      "2018-07-21 17:06:24+02:00             61.4             1.0   \n",
      "2018-07-21 17:06:26+02:00             60.5             1.0   \n",
      "2018-07-21 17:06:28+02:00             59.9             1.0   \n",
      "2018-07-21 17:06:30+02:00             60.1             1.0   \n",
      "2018-07-21 17:06:32+02:00             60.7             1.0   \n",
      "2018-07-21 17:06:34+02:00             61.2             1.0   \n",
      "2018-07-21 17:06:36+02:00             60.0             1.0   \n",
      "2018-07-21 17:06:38+02:00             60.3             1.0   \n",
      "2018-07-21 17:06:40+02:00             63.0             1.0   \n",
      "2018-07-21 17:06:42+02:00             59.8             1.0   \n",
      "2018-07-21 17:06:44+02:00             60.5             1.0   \n",
      "2018-07-21 17:06:46+02:00             59.8             1.0   \n",
      "2018-07-21 17:06:48+02:00            121.2             1.0   \n",
      "2018-07-21 17:06:50+02:00            118.1             1.0   \n",
      "2018-07-21 17:06:52+02:00            119.6             1.0   \n",
      "2018-07-21 17:06:54+02:00             60.6             1.0   \n",
      "2018-07-21 17:06:56+02:00             61.5             1.0   \n",
      "2018-07-21 17:06:58+02:00             61.4             1.0   \n",
      "2018-07-21 17:07:00+02:00             61.8             1.0   \n",
      "2018-07-21 17:07:02+02:00             61.3             1.0   \n",
      "2018-07-21 17:07:04+02:00             61.4             1.0   \n",
      "2018-07-21 17:07:06+02:00             60.6             1.0   \n",
      "2018-07-21 17:07:08+02:00             61.1             1.0   \n",
      "2018-07-21 17:07:10+02:00             60.2             1.0   \n",
      "2018-07-21 17:07:12+02:00             61.1             1.0   \n",
      "2018-07-21 17:07:14+02:00             62.2             1.0   \n",
      "2018-07-21 17:07:16+02:00             60.1             1.0   \n",
      "2018-07-21 17:07:18+02:00             60.6             1.0   \n",
      "...                                    ...             ...   \n",
      "2018-07-21 23:06:22+02:00             16.3             0.0   \n",
      "2018-07-21 23:06:24+02:00             13.5             0.0   \n",
      "2018-07-21 23:06:26+02:00             13.6             0.0   \n",
      "2018-07-21 23:06:28+02:00             13.1             0.0   \n",
      "2018-07-21 23:06:30+02:00             13.8             0.0   \n",
      "2018-07-21 23:06:32+02:00             95.8             1.0   \n",
      "2018-07-21 23:06:34+02:00             61.6             1.0   \n",
      "2018-07-21 23:06:36+02:00             62.0             1.0   \n",
      "2018-07-21 23:06:38+02:00             60.8             1.0   \n",
      "2018-07-21 23:06:40+02:00             60.3             1.0   \n",
      "2018-07-21 23:06:42+02:00             60.2             1.0   \n",
      "2018-07-21 23:06:44+02:00             61.1             1.0   \n",
      "2018-07-21 23:06:46+02:00             60.9             1.0   \n",
      "2018-07-21 23:06:48+02:00             61.3             1.0   \n",
      "2018-07-21 23:06:50+02:00             61.3             1.0   \n",
      "2018-07-21 23:06:52+02:00             60.9             1.0   \n",
      "2018-07-21 23:06:54+02:00             61.5             1.0   \n",
      "2018-07-21 23:06:56+02:00             61.9             1.0   \n",
      "2018-07-21 23:06:58+02:00             62.8             1.0   \n",
      "2018-07-21 23:07:00+02:00             60.6             1.0   \n",
      "2018-07-21 23:07:02+02:00             60.4             1.0   \n",
      "2018-07-21 23:07:04+02:00             60.6             1.0   \n",
      "2018-07-21 23:07:06+02:00             61.4             1.0   \n",
      "2018-07-21 23:07:08+02:00             60.1             1.0   \n",
      "2018-07-21 23:07:10+02:00             60.7             1.0   \n",
      "2018-07-21 23:07:12+02:00             60.4             1.0   \n",
      "2018-07-21 23:07:14+02:00             60.2             1.0   \n",
      "2018-07-21 23:07:16+02:00             60.0             1.0   \n",
      "2018-07-21 23:07:18+02:00             60.2             1.0   \n",
      "2018-07-21 23:07:20+02:00             61.0             1.0   \n",
      "\n",
      "                           Temperature_TEMPERATURE  \\\n",
      "Time                                                 \n",
      "2018-07-21 17:06:20+02:00                    10.74   \n",
      "2018-07-21 17:06:22+02:00                    10.79   \n",
      "2018-07-21 17:06:24+02:00                    10.79   \n",
      "2018-07-21 17:06:26+02:00                    10.82   \n",
      "2018-07-21 17:06:28+02:00                    10.85   \n",
      "2018-07-21 17:06:30+02:00                    10.86   \n",
      "2018-07-21 17:06:32+02:00                    10.90   \n",
      "2018-07-21 17:06:34+02:00                    10.89   \n",
      "2018-07-21 17:06:36+02:00                    10.93   \n",
      "2018-07-21 17:06:38+02:00                    10.96   \n",
      "2018-07-21 17:06:40+02:00                    10.97   \n",
      "2018-07-21 17:06:42+02:00                    10.99   \n",
      "2018-07-21 17:06:44+02:00                    11.03   \n",
      "2018-07-21 17:06:46+02:00                    11.03   \n",
      "2018-07-21 17:06:48+02:00                    11.07   \n",
      "2018-07-21 17:06:50+02:00                    11.08   \n",
      "2018-07-21 17:06:52+02:00                    11.03   \n",
      "2018-07-21 17:06:54+02:00                    11.11   \n",
      "2018-07-21 17:06:56+02:00                    11.13   \n",
      "2018-07-21 17:06:58+02:00                    11.14   \n",
      "2018-07-21 17:07:00+02:00                    11.18   \n",
      "2018-07-21 17:07:02+02:00                    11.21   \n",
      "2018-07-21 17:07:04+02:00                    11.21   \n",
      "2018-07-21 17:07:06+02:00                    11.21   \n",
      "2018-07-21 17:07:08+02:00                    11.25   \n",
      "2018-07-21 17:07:10+02:00                    11.27   \n",
      "2018-07-21 17:07:12+02:00                    11.28   \n",
      "2018-07-21 17:07:14+02:00                    11.31   \n",
      "2018-07-21 17:07:16+02:00                    11.33   \n",
      "2018-07-21 17:07:18+02:00                    11.35   \n",
      "...                                            ...   \n",
      "2018-07-21 23:06:22+02:00                     4.11   \n",
      "2018-07-21 23:06:24+02:00                     4.12   \n",
      "2018-07-21 23:06:26+02:00                     4.14   \n",
      "2018-07-21 23:06:28+02:00                     4.14   \n",
      "2018-07-21 23:06:30+02:00                     4.14   \n",
      "2018-07-21 23:06:32+02:00                     4.12   \n",
      "2018-07-21 23:06:34+02:00                      NaN   \n",
      "2018-07-21 23:06:36+02:00                      NaN   \n",
      "2018-07-21 23:06:38+02:00                      NaN   \n",
      "2018-07-21 23:06:40+02:00                      NaN   \n",
      "2018-07-21 23:06:42+02:00                      NaN   \n",
      "2018-07-21 23:06:44+02:00                      NaN   \n",
      "2018-07-21 23:06:46+02:00                      NaN   \n",
      "2018-07-21 23:06:48+02:00                      NaN   \n",
      "2018-07-21 23:06:50+02:00                      NaN   \n",
      "2018-07-21 23:06:52+02:00                      NaN   \n",
      "2018-07-21 23:06:54+02:00                      NaN   \n",
      "2018-07-21 23:06:56+02:00                      NaN   \n",
      "2018-07-21 23:06:58+02:00                      NaN   \n",
      "2018-07-21 23:07:00+02:00                      NaN   \n",
      "2018-07-21 23:07:02+02:00                      NaN   \n",
      "2018-07-21 23:07:04+02:00                      NaN   \n",
      "2018-07-21 23:07:06+02:00                      NaN   \n",
      "2018-07-21 23:07:08+02:00                      NaN   \n",
      "2018-07-21 23:07:10+02:00                      NaN   \n",
      "2018-07-21 23:07:12+02:00                      NaN   \n",
      "2018-07-21 23:07:14+02:00                      NaN   \n",
      "2018-07-21 23:07:16+02:00                      NaN   \n",
      "2018-07-21 23:07:18+02:00                      NaN   \n",
      "2018-07-21 23:07:20+02:00                      NaN   \n",
      "\n",
      "                           External Temperature_TEMPERATURE  \\\n",
      "Time                                                          \n",
      "2018-07-21 17:06:20+02:00                            10.826   \n",
      "2018-07-21 17:06:22+02:00                            10.839   \n",
      "2018-07-21 17:06:24+02:00                            10.869   \n",
      "2018-07-21 17:06:26+02:00                            10.882   \n",
      "2018-07-21 17:06:28+02:00                            10.895   \n",
      "2018-07-21 17:06:30+02:00                            10.909   \n",
      "2018-07-21 17:06:32+02:00                            10.882   \n",
      "2018-07-21 17:06:34+02:00                            10.869   \n",
      "2018-07-21 17:06:36+02:00                            10.882   \n",
      "2018-07-21 17:06:38+02:00                            10.869   \n",
      "2018-07-21 17:06:40+02:00                            10.882   \n",
      "2018-07-21 17:06:42+02:00                            10.869   \n",
      "2018-07-21 17:06:44+02:00                            10.869   \n",
      "2018-07-21 17:06:46+02:00                            10.813   \n",
      "2018-07-21 17:06:48+02:00                            10.839   \n",
      "2018-07-21 17:06:50+02:00                            10.853   \n",
      "2018-07-21 17:06:52+02:00                            10.727   \n",
      "2018-07-21 17:06:54+02:00                            10.797   \n",
      "2018-07-21 17:06:56+02:00                            10.826   \n",
      "2018-07-21 17:06:58+02:00                            10.826   \n",
      "2018-07-21 17:07:00+02:00                            10.826   \n",
      "2018-07-21 17:07:02+02:00                            10.813   \n",
      "2018-07-21 17:07:04+02:00                            10.813   \n",
      "2018-07-21 17:07:06+02:00                            10.826   \n",
      "2018-07-21 17:07:08+02:00                            10.813   \n",
      "2018-07-21 17:07:10+02:00                            10.813   \n",
      "2018-07-21 17:07:12+02:00                            10.813   \n",
      "2018-07-21 17:07:14+02:00                            10.826   \n",
      "2018-07-21 17:07:16+02:00                            10.797   \n",
      "2018-07-21 17:07:18+02:00                            10.783   \n",
      "...                                                     ...   \n",
      "2018-07-21 23:06:22+02:00                             4.059   \n",
      "2018-07-21 23:06:24+02:00                             4.046   \n",
      "2018-07-21 23:06:26+02:00                             4.046   \n",
      "2018-07-21 23:06:28+02:00                             4.046   \n",
      "2018-07-21 23:06:30+02:00                             4.046   \n",
      "2018-07-21 23:06:32+02:00                             4.033   \n",
      "2018-07-21 23:06:34+02:00                               NaN   \n",
      "2018-07-21 23:06:36+02:00                               NaN   \n",
      "2018-07-21 23:06:38+02:00                               NaN   \n",
      "2018-07-21 23:06:40+02:00                               NaN   \n",
      "2018-07-21 23:06:42+02:00                               NaN   \n",
      "2018-07-21 23:06:44+02:00                               NaN   \n",
      "2018-07-21 23:06:46+02:00                               NaN   \n",
      "2018-07-21 23:06:48+02:00                               NaN   \n",
      "2018-07-21 23:06:50+02:00                               NaN   \n",
      "2018-07-21 23:06:52+02:00                               NaN   \n",
      "2018-07-21 23:06:54+02:00                               NaN   \n",
      "2018-07-21 23:06:56+02:00                               NaN   \n",
      "2018-07-21 23:06:58+02:00                               NaN   \n",
      "2018-07-21 23:07:00+02:00                               NaN   \n",
      "2018-07-21 23:07:02+02:00                               NaN   \n",
      "2018-07-21 23:07:04+02:00                               NaN   \n",
      "2018-07-21 23:07:06+02:00                               NaN   \n",
      "2018-07-21 23:07:08+02:00                               NaN   \n",
      "2018-07-21 23:07:10+02:00                               NaN   \n",
      "2018-07-21 23:07:12+02:00                               NaN   \n",
      "2018-07-21 23:07:14+02:00                               NaN   \n",
      "2018-07-21 23:07:16+02:00                               NaN   \n",
      "2018-07-21 23:07:18+02:00                               NaN   \n",
      "2018-07-21 23:07:20+02:00                               NaN   \n",
      "\n",
      "                           Humidity_TEMPERATURE  External Humidity_TEMPERATURE  \n",
      "Time                                                                            \n",
      "2018-07-21 17:06:20+02:00                 92.49                         89.238  \n",
      "2018-07-21 17:06:22+02:00                 92.41                         88.931  \n",
      "2018-07-21 17:06:24+02:00                 92.31                         88.537  \n",
      "2018-07-21 17:06:26+02:00                 92.14                         88.244  \n",
      "2018-07-21 17:06:28+02:00                 92.01                         87.919  \n",
      "2018-07-21 17:06:30+02:00                 91.87                         87.538  \n",
      "2018-07-21 17:06:32+02:00                 91.71                         87.181  \n",
      "2018-07-21 17:06:34+02:00                 91.50                         86.816  \n",
      "2018-07-21 17:06:36+02:00                 91.31                         86.389  \n",
      "2018-07-21 17:06:38+02:00                 91.06                         85.991  \n",
      "2018-07-21 17:06:40+02:00                 90.88                         85.599  \n",
      "2018-07-21 17:06:42+02:00                 90.62                         85.223  \n",
      "2018-07-21 17:06:44+02:00                 90.41                         84.828  \n",
      "2018-07-21 17:06:46+02:00                 90.07                         84.399  \n",
      "2018-07-21 17:06:48+02:00                 89.77                         83.995  \n",
      "2018-07-21 17:06:50+02:00                 89.42                         83.603  \n",
      "2018-07-21 17:06:52+02:00                 89.00                         83.258  \n",
      "2018-07-21 17:06:54+02:00                 88.65                         82.966  \n",
      "2018-07-21 17:06:56+02:00                 88.17                         82.719  \n",
      "2018-07-21 17:06:58+02:00                 87.66                         82.466  \n",
      "2018-07-21 17:07:00+02:00                 87.10                         82.155  \n",
      "2018-07-21 17:07:02+02:00                 86.45                         81.891  \n",
      "2018-07-21 17:07:04+02:00                 85.82                         81.547  \n",
      "2018-07-21 17:07:06+02:00                 85.18                         81.193  \n",
      "2018-07-21 17:07:08+02:00                 84.46                         80.946  \n",
      "2018-07-21 17:07:10+02:00                 83.80                         80.699  \n",
      "2018-07-21 17:07:12+02:00                 83.12                         80.403  \n",
      "2018-07-21 17:07:14+02:00                 82.44                         80.142  \n",
      "2018-07-21 17:07:16+02:00                 81.76                         79.838  \n",
      "2018-07-21 17:07:18+02:00                 81.02                         79.528  \n",
      "...                                         ...                            ...  \n",
      "2018-07-21 23:06:22+02:00                 34.76                         35.953  \n",
      "2018-07-21 23:06:24+02:00                 34.76                         35.917  \n",
      "2018-07-21 23:06:26+02:00                 34.81                         35.927  \n",
      "2018-07-21 23:06:28+02:00                 34.77                         35.950  \n",
      "2018-07-21 23:06:30+02:00                 34.77                         35.978  \n",
      "2018-07-21 23:06:32+02:00                 34.80                         35.950  \n",
      "2018-07-21 23:06:34+02:00                   NaN                            NaN  \n",
      "2018-07-21 23:06:36+02:00                   NaN                            NaN  \n",
      "2018-07-21 23:06:38+02:00                   NaN                            NaN  \n",
      "2018-07-21 23:06:40+02:00                   NaN                            NaN  \n",
      "2018-07-21 23:06:42+02:00                   NaN                            NaN  \n",
      "2018-07-21 23:06:44+02:00                   NaN                            NaN  \n",
      "2018-07-21 23:06:46+02:00                   NaN                            NaN  \n",
      "2018-07-21 23:06:48+02:00                   NaN                            NaN  \n",
      "2018-07-21 23:06:50+02:00                   NaN                            NaN  \n",
      "2018-07-21 23:06:52+02:00                   NaN                            NaN  \n",
      "2018-07-21 23:06:54+02:00                   NaN                            NaN  \n",
      "2018-07-21 23:06:56+02:00                   NaN                            NaN  \n",
      "2018-07-21 23:06:58+02:00                   NaN                            NaN  \n",
      "2018-07-21 23:07:00+02:00                   NaN                            NaN  \n",
      "2018-07-21 23:07:02+02:00                   NaN                            NaN  \n",
      "2018-07-21 23:07:04+02:00                   NaN                            NaN  \n",
      "2018-07-21 23:07:06+02:00                   NaN                            NaN  \n",
      "2018-07-21 23:07:08+02:00                   NaN                            NaN  \n",
      "2018-07-21 23:07:10+02:00                   NaN                            NaN  \n",
      "2018-07-21 23:07:12+02:00                   NaN                            NaN  \n",
      "2018-07-21 23:07:14+02:00                   NaN                            NaN  \n",
      "2018-07-21 23:07:16+02:00                   NaN                            NaN  \n",
      "2018-07-21 23:07:18+02:00                   NaN                            NaN  \n",
      "2018-07-21 23:07:20+02:00                   NaN                            NaN  \n",
      "\n",
      "[10831 rows x 6 columns]\n"
     ]
    }
   ],
   "source": [
    "# To run in temperature tests with current that have 'ON_OFF' calculated with greater(current, 20)\n",
    "from signal_utils import split_agnostisise\n",
    "\n",
    "for reading in readings:\n",
    "    print (reading)\n",
    "    print readings[reading]['devices']['CURRENT']['data'].columns\n",
    "    dataframeResult = split_agnostisise(readings, reading, 'ON_OFF_CURRENT')\n",
    "    # dataframeResult = split_agnostisise(readings, reading, 'measuring')\n",
    "    readings[reading]['devices']['analysis'] = dict()\n",
    "    readings[reading]['devices']['analysis']['data'] = dict()\n",
    "    readings[reading]['devices']['analysis']['data'] = dataframeResult"
   ]
  },
  {
   "cell_type": "markdown",
   "metadata": {},
   "source": [
    "## Plots"
   ]
  },
  {
   "cell_type": "code",
   "execution_count": 10,
   "metadata": {},
   "outputs": [
    {
     "name": "stdout",
     "output_type": "stream",
     "text": [
      "-------------------------------------\n",
      " Medias:\n",
      "\n",
      " analysis\tTemperature_TEMPERATURE_OFF_-5.0\t31.22\n",
      " analysis\tExternal Temperature_TEMPERATURE_OFF_-5.0\t30.07\n",
      " analysis\tTemperature_TEMPERATURE_OFF_-4.0\t31.24\n",
      " analysis\tExternal Temperature_TEMPERATURE_OFF_-4.0\t29.90\n",
      " analysis\tExternal Temperature_TEMPERATURE_OFF_-3.0\t29.86\n",
      " analysis\tTemperature_TEMPERATURE_OFF_-3.0\t30.73\n",
      " analysis\tTemperature_TEMPERATURE_OFF_-2.0\t31.08\n",
      " analysis\tExternal Temperature_TEMPERATURE_OFF_-2.0\t30.00\n",
      " analysis\tTemperature_TEMPERATURE_OFF_-1.0\t31.53\n",
      " analysis\tExternal Temperature_TEMPERATURE_OFF_-1.0\t30.35\n",
      "-------------------------------------\n",
      "-------------------------------------\n",
      " Std Deviation:\n",
      "\n",
      " analysis\tTemperature_TEMPERATURE_OFF_-5.0\t0.83\n",
      " analysis\tExternal Temperature_TEMPERATURE_OFF_-5.0\t0.04\n",
      " analysis\tTemperature_TEMPERATURE_OFF_-4.0\t0.85\n",
      " analysis\tExternal Temperature_TEMPERATURE_OFF_-4.0\t0.02\n",
      " analysis\tExternal Temperature_TEMPERATURE_OFF_-3.0\t0.07\n",
      " analysis\tTemperature_TEMPERATURE_OFF_-3.0\t0.62\n",
      " analysis\tTemperature_TEMPERATURE_OFF_-2.0\t0.64\n",
      " analysis\tExternal Temperature_TEMPERATURE_OFF_-2.0\t0.04\n",
      " analysis\tTemperature_TEMPERATURE_OFF_-1.0\t0.86\n",
      " analysis\tExternal Temperature_TEMPERATURE_OFF_-1.0\t0.11\n",
      "-------------------------------------\n"
     ]
    },
    {
     "data": {
      "image/png": "[encoded data removed]",
      "text/plain": [
       "<Figure size 1080x720 with 1 Axes>"
      ]
     },
     "metadata": {},
     "output_type": "display_data"
    }
   ],
   "source": [
    "from IPython.display import display, Markdown, FileLink, FileLinks, clear_output, HTML\n",
    "from IPython.core.display import HTML\n",
    "from IPython.display import display, clear_output\n",
    "import ipywidgets as widgets\n",
    "from ipywidgets import interact, interactive, fixed, interact_manual\n",
    "\n",
    "# --\n",
    "# Plotly\n",
    "import plotly as ply\n",
    "import plotly.graph_objs as go\n",
    "from plotly.widgets import GraphWidget\n",
    "from plotly.offline import download_plotlyjs, init_notebook_mode, plot, iplot\n",
    "from plotly.graph_objs import Scatter, Layout\n",
    "import plotly.tools as tls\n",
    "\n",
    "import matplotlib.pyplot as plot\n",
    "\n",
    "init_notebook_mode(connected=True)\n",
    "\n",
    "# Plot Y limits\n",
    "setLimits = False\n",
    "maxY = 15000\n",
    "minY = 0\n",
    "\n",
    "toshow = []\n",
    "axisshow = []\n",
    "# meanTable = []\n",
    "\n",
    "def show_devices(Source):\n",
    "    _device.options = [s for s in list(readings[Source]['devices'].keys())]\n",
    "    _device.source = Source\n",
    "    #_min_date.value = readings[Source].index.min()._short_repr\n",
    "    #_max_date.value = readings[Source].index.max()._short_repr\n",
    "\n",
    "def show_sensors(Source):\n",
    "    _sensor_drop.options = [s for s in list(readings[_test.value]['devices'][Source]['data'].columns)]\n",
    "    _sensor_drop.source = Source\n",
    "    _min_date.value = readings[_test.value]['devices'][Source]['data'].index.min()._short_repr\n",
    "    _max_date.value = readings[_test.value]['devices'][Source]['data'].index.max()._short_repr\n",
    "\n",
    "def clear_all(b):\n",
    "    clear_output()\n",
    "    del toshow[:]\n",
    "    del axisshow[:]\n",
    "\n",
    "def add_sensor(b):\n",
    "    clear_output()\n",
    "    d = [_device.source, _sensor_drop.source, _sensor_drop.value]\n",
    "    \n",
    "    if d not in toshow: \n",
    "        toshow.append(d)\n",
    "        axisshow.append(_axis_drop.value)\n",
    "        \n",
    "    plot_data = readings[toshow[0][0]]['devices'][toshow[0][1]]['data'].loc[:,(toshow[0][2],)]\n",
    "    list_data_primary = []\n",
    "    list_data_secondary = []\n",
    "    list_data_terciary = []\n",
    "    \n",
    "    if b.slice_time:\n",
    "        plot_data = plot_data[plot_data.index > _min_date.value]\n",
    "        plot_data = plot_data[plot_data.index < _max_date.value]\n",
    "    \n",
    "    if len(toshow) > 1:\n",
    "        for i in range(1, len(toshow)):\n",
    "            plot_data = pd.merge(plot_data, readings[toshow[i][0]]['devices'][toshow[i][1]]['data'].loc[:,(toshow[i][2],)], left_index=True, right_index=True)\n",
    "    # plot_data = plot_data.groupby(pd.Grouper(freq='10Min')).aggregate(np.mean)    \n",
    "\n",
    "    print ('-------------------------------------')\n",
    "    print (' Medias:\\n')\n",
    "    meanTable = []\n",
    "    for d in toshow:\n",
    "        myMean = ' ' + d[1]  + \"\\t\" + d[2] + \"\\t\"\n",
    "        meanTable.append(myMean)   \n",
    "    res = plot_data.mean()\n",
    "    for i in range(len(meanTable)): print (meanTable[i] + '%.2f' % (res[i]))\n",
    "    print ('-------------------------------------')\n",
    "    \n",
    "    print ('-------------------------------------')\n",
    "    print (' Std Deviation:\\n')\n",
    "    stdTable = []\n",
    "    for d in toshow:\n",
    "        myStd = ' ' + d[1]  + \"\\t\" + d[2] + \"\\t\"\n",
    "        stdTable.append(myStd)   \n",
    "    std = plot_data.std()\n",
    "    for i in range(len(stdTable)): print stdTable[i] + '%.2f' % (std[i])\n",
    "    print ('-------------------------------------')\n",
    "\n",
    "    # Change columns naming\n",
    "    changed = []\n",
    "    for i in range(len(plot_data.columns)):\n",
    "        changed.append(toshow[i][0] + ' - '+ toshow[i][1] + ' - '+ plot_data.columns[i])\n",
    "    plot_data.columns = changed\n",
    "    \n",
    "    subplot_rows = 0\n",
    "    if len(toshow) > 0:\n",
    "        for i in range(len(toshow)):\n",
    "            if axisshow[i]=='1': \n",
    "                list_data_primary.append(str(changed[i]))\n",
    "                subplot_rows = max(subplot_rows,1)\n",
    "            if axisshow[i]=='2': \n",
    "                list_data_secondary.append(str(changed[i]))\n",
    "                subplot_rows = max(subplot_rows,2)\n",
    "            if axisshow[i]=='3': \n",
    "                list_data_terciary.append(str(changed[i]))\n",
    "                subplot_rows = max(subplot_rows,3)\n",
    "          \n",
    "    \n",
    "    if _matplotly.value == 'Plotly':\n",
    "        fig1 = tls.make_subplots(rows=subplot_rows, cols=1, shared_xaxes=_synchroniseXaxis.value)\n",
    "    \n",
    "        #if len(list_data_primary)>0:\n",
    "            #fig1 = plot_data.iplot(kind='scatter', y = list_data_primary, asFigure=True, layout = layout)\n",
    "        #ply.offline.iplot(fig1)\n",
    "        \n",
    "        for i in range(len(list_data_primary)):\n",
    "            fig1.append_trace({'x': plot_data.index, 'y': plot_data[list_data_primary[i]], 'type': 'scatter', 'name': list_data_primary[i]}, 1, 1)\n",
    "    \n",
    "        for i in range(len(list_data_secondary)):\n",
    "            fig1.append_trace({'x': plot_data.index, 'y': plot_data[list_data_secondary[i]], 'type': 'scatter', 'name': list_data_secondary[i]}, 2, 1)\n",
    "        \n",
    "        for i in range(len(list_data_terciary)):\n",
    "            fig1.append_trace({'x': plot_data.index, 'y': plot_data[list_data_terciary[i]], 'type': 'scatter', 'name': list_data_terciary[i]}, 3, 1)\n",
    "    \n",
    "        if setLimits: \n",
    "            fig1['layout'].update(height = 800,\n",
    "                                legend=dict(x=-.1, y=1.2) ,\n",
    "                               xaxis=dict(title='Time'))\n",
    "                              \n",
    "        else:\n",
    "            fig1['layout'].update(height = 800,\n",
    "                                  legend=dict(x=-.1, y=1.2) ,\n",
    "                               xaxis=dict(title='Time'))\n",
    "                               \n",
    "        ply.offline.iplot(fig1)\n",
    "        \n",
    "    elif _matplotly.value == 'Matplotlib':\n",
    "        \n",
    "        fig, axes = plot.subplots(subplot_rows, 1, figsize=(15,10))\n",
    "        # Four axes, returned as a 2-d array\n",
    "        \n",
    "        if subplot_rows == 1:\n",
    "            for i in range(len(list_data_primary)):\n",
    "                axes.plot(plot_data.index, plot_data[list_data_primary[i]], label =  list_data_primary[i])\n",
    "                axes.legend(loc='best')\n",
    "\n",
    "        else:\n",
    "            for i in range(len(list_data_primary)):\n",
    "                axes[0].plot(plot_data.index, plot_data[list_data_primary[i]], label =  list_data_primary[i])\n",
    "                axes[0].legend(loc='best')\n",
    "                axes[0].grid(visible = True)\n",
    "\n",
    "            for i in range(len(list_data_secondary)):\n",
    "                axes[1].plot(plot_data.index, plot_data[list_data_secondary[i]], label =  list_data_secondary[i])\n",
    "                axes[1].legend(loc='best')\n",
    "                axes[1].grid(visible = True)\n",
    "\n",
    "            for i in range(len(list_data_terciary)):\n",
    "                axes[2].plot(plot_data.index, plot_data[list_data_terciary[i]], label =  list_data_terciary[i])\n",
    "                axes[2].legend(loc='best')\n",
    "                axes[2].grid(visible = True)\n",
    "\n",
    "        plot.xlabel('Date') \n",
    "        plot.grid(visible = True)\n",
    "        plot.show()\n",
    "        \n",
    "    \n",
    "def reset_time(b):\n",
    "    _min_date.value = readings[b.src.value].index.min()._short_repr\n",
    "    _max_date.value = readings[b.src.value].index.max()._short_repr\n",
    "\n",
    "layout=widgets.Layout(width='330px')\n",
    "\n",
    "# Test dropdown\n",
    "_test = widgets.Dropdown(options=[k for k in readings.keys()], \n",
    "                        layout=layout,\n",
    "                        description = 'Test')\n",
    "\n",
    "_test_drop = widgets.interactive(show_devices, \n",
    "                                Source=_test, \n",
    "                                layout=layout)\n",
    "\n",
    "# Device dropdown\n",
    "_device = widgets.Dropdown(layout=layout,\n",
    "                        description = 'Device')\n",
    "\n",
    "_device_drop = widgets.interactive(show_sensors, \n",
    "                                Source=_device, \n",
    "                                layout=layout)\n",
    "\n",
    "# Sensor dropdown\n",
    "_sensor_drop = widgets.Dropdown(layout=layout,\n",
    "                               description = 'Channel')\n",
    "\n",
    "# Buttons\n",
    "_b_add = widgets.Button(description='Add to Plot', layout=widgets.Layout(width='120px'))\n",
    "_b_add.on_click(add_sensor)\n",
    "_b_add.slice_time = False\n",
    "_b_reset_all = widgets.Button(description='Clear all', layout=widgets.Layout(width='120px'))\n",
    "_b_reset_all.on_click(clear_all)\n",
    "\n",
    "# Axis dropdown\n",
    "_axis_drop = widgets.Dropdown(\n",
    "    options=['1', '2', '3'],\n",
    "    value='1',\n",
    "    description='Subplot:',\n",
    "    disabled=False,\n",
    ")\n",
    "\n",
    "# Synchronise Checkbox\n",
    "_synchroniseXaxis = widgets.Checkbox(value=False, \n",
    "                                     description='Synchronise X axis', \n",
    "                                     disabled=False, \n",
    "                                     layout=widgets.Layout(width='300px'))\n",
    "\n",
    "_matplotly = widgets.RadioButtons(\n",
    "    options=['Matplotlib', 'Plotly'], value='Matplotlib',\n",
    "    description='Plot Type',\n",
    "    disabled=False\n",
    ")\n",
    "\n",
    "# Date fields\n",
    "_min_date = widgets.Text(description='Start date:', \n",
    "                         layout=widgets.Layout(width='330px'))\n",
    "_max_date = widgets.Text(description='End date:', \n",
    "                         layout=widgets.Layout(width='330px'))\n",
    "\n",
    "# Date buttons\n",
    "_b_apply_time = _b_reset = widgets.Button(description='Apply dates', layout=widgets.Layout(width='100px'))\n",
    "_b_apply_time.on_click(add_sensor)\n",
    "_b_apply_time.slice_time = True\n",
    "_b_reset_time = _b_reset = widgets.Button(description='Reset dates', layout=widgets.Layout(width='100px'))\n",
    "_b_reset_time.on_click(reset_time)\n",
    "#_b_reset_time.src = _kit\n",
    "\n",
    "\n",
    "_device_box = widgets.HBox([_test_drop, _device_drop])\n",
    "_sensor_box = widgets.HBox([_sensor_drop, _axis_drop, _synchroniseXaxis])\n",
    "_plot_type_box = widgets.VBox([_matplotly])\n",
    "\n",
    "_plot_box = widgets.HBox([_b_add , _b_reset_all])\n",
    "_time_box = widgets.HBox([_min_date,_max_date, _b_reset_time, _b_apply_time])\n",
    "_root_box = widgets.VBox([_matplotly, _time_box, _device_box, _sensor_box, _plot_box])\n",
    "display(_root_box)"
   ]
  },
  {
   "cell_type": "code",
   "execution_count": null,
   "metadata": {
    "collapsed": true
   },
   "outputs": [],
   "source": []
  }
 ],
 "metadata": {
  "kernelspec": {
   "display_name": "Python 2",
   "language": "python",
   "name": "python2"
  },
  "language_info": {
   "codemirror_mode": {
    "name": "ipython",
    "version": 2
   },
   "file_extension": ".py",
   "mimetype": "text/x-python",
   "name": "python",
   "nbconvert_exporter": "python",
   "pygments_lexer": "ipython2",
   "version": "2.7.14"
  },
  "toc": {
   "nav_menu": {},
   "number_sections": true,
   "sideBar": true,
   "skip_h1_title": false,
   "title_cell": "Table of Contents",
   "title_sidebar": "Contents",
   "toc_cell": false,
   "toc_position": {},
   "toc_section_display": true,
   "toc_window_display": false
  }
 },
 "nbformat": 4,
 "nbformat_minor": 2
}
