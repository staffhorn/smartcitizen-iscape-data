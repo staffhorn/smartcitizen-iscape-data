{
 "cells": [
  {
   "cell_type": "markdown",
   "metadata": {},
   "source": [
    "# Initialise Notebook"
   ]
  },
  {
   "cell_type": "code",
   "execution_count": 2,
   "metadata": {
    "code_folding": [
     127
    ]
   },
   "outputs": [
    {
     "name": "stdout",
     "output_type": "stream",
     "text": [
      "The autoreload extension is already loaded. To reload it, use:\n",
      "  %reload_ext autoreload\n",
      "Created test object\n",
      "Loaded sensor data\n"
     ]
    }
   ],
   "source": [
    "%load_ext autoreload\n",
    "%autoreload 2\n",
    "\n",
    "from src.data.test_object import test_object\n",
    "\n",
    "print ('Created test object')\n",
    "\n",
    "## Get Root Directory\n",
    "from os.path import dirname, join, abspath\n",
    "from os import getcwd, pardir\n",
    "import os\n",
    "import pandas as pd\n",
    "\n",
    "import yaml\n",
    "rootDirectory = abspath(abspath(join(getcwd(), pardir)))\n",
    "interim = join(rootDirectory, 'data','interim')\n",
    "sensordata = join(interim, 'sensorData.yaml')\n",
    "with open(sensordata, 'r') as yml:\n",
    "    sensorsData = yaml.load(yml)\n",
    "    \n",
    "yaml1 = {}\n",
    "print ('Loaded sensor data')"
   ]
  },
  {
   "cell_type": "markdown",
   "metadata": {},
   "source": [
    "# Input Data"
   ]
  },
  {
   "cell_type": "code",
   "execution_count": 26,
   "metadata": {},
   "outputs": [
    {
     "name": "stdout",
     "output_type": "stream",
     "text": [
      "Add details OK\n",
      "Add device 5261 OK\n",
      "Add device files 5261 OK\n",
      "Add device 5262 OK\n",
      "Add device files 5262 OK\n",
      "Add device 5565 OK\n",
      "Add device files 5565 OK\n",
      "Adding reference: CITY_COUNCIL\n",
      "Adding reference: CITY_COUNCIL_DAY\n",
      "Processing reference: CITY_COUNCIL\n",
      "Processing reference: CITY_COUNCIL_DAY\n",
      "Processing device: 5261\n",
      "Processing device: 5262\n",
      "Test Creation Finished\n"
     ]
    }
   ],
   "source": [
    "date = '2019-02-15'\n",
    "who = 'EXT'\n",
    "name = 'DUBLIN_URBAN_BACKGROUND_3'\n",
    "\n",
    "comment = '''\n",
    "**Comment:** \n",
    "DUBLIN URBAN BACKGROUND DATA\n",
    "'''\n",
    "\n",
    "date = pd.to_datetime(date)\n",
    "\n",
    "test_id = date.strftime('%Y-%m') + '_' + who + '_' + name\n",
    "\n",
    "# Create test object\n",
    "test = test_object(test_id, sensorsData)\n",
    "\n",
    "# Add General test details\n",
    "test.add_details(project = 'iscape', \n",
    "                 commit = 'various', \n",
    "                 author = 'Oscar', \n",
    "                 type_test = 'indoor', \n",
    "                 report = '', \n",
    "                 comment = comment)\n",
    "\n",
    "# Add Device (as many as needed)\n",
    "# Devices can be sourced from a csv file or from the API\n",
    "# ['source']: either 'csv_old', 'csv_new' or 'api'\n",
    "## CSV: \n",
    "##    - ['fileNameRaw']: file name of the csv containing the data\n",
    "##    - ['fileNameInfo']: file name of the info\n",
    "##    - ['frequency']: frequency of the data\n",
    "##  API:\n",
    "##    - ['device_id']: platform device ID\n",
    "##    - ['frequency']: target frequency of the data\n",
    "##    - ['min_date']: min_date (can be None and it will get from the first)\n",
    "##    - ['max_date']: max_date (can be None and it will update till the latest)\n",
    "\n",
    "test.add_device('5261', \n",
    "                device_type = 'STATION', \n",
    "                sck_version = '2.0', \n",
    "                pm_sensor = 'none', \n",
    "                device_history = '5261',\n",
    "                location = 'Europe/Dublin',\n",
    "                device_files = {'fileNameRaw': '5261.csv', \n",
    "                                  'fileNameInfo': '', \n",
    "                                  'frequency': '1Min',\n",
    "                                  'source': 'csv_old'})\n",
    "\n",
    "test.add_device('5262', \n",
    "                device_type = 'STATION', \n",
    "                sck_version = '2.0', \n",
    "                pm_sensor = 'none', \n",
    "                device_history = '5262',\n",
    "                location = 'Europe/Dublin',\n",
    "                device_files = {'fileNameRaw': '5262.csv', \n",
    "                                  'fileNameInfo': '', \n",
    "                                  'frequency': '1Min',\n",
    "                                  'source': 'csv_old'})\n",
    "\n",
    "test.add_device('5565', \n",
    "                device_type = 'STATION', \n",
    "                sck_version = '2.0', \n",
    "                pm_sensor = 'none',\n",
    "                alphasense = {'CO': 162581708,\n",
    "                              'NO2': 202160421,\n",
    "                              'O3': 204160144,\n",
    "                              'slots': ['CO', 'NO2', 'O3']\n",
    "                             },\n",
    "                location = 'Europe/Dublin',\n",
    "                device_files = {'device_id': '5265', \n",
    "                                  'frequency': '1Min',\n",
    "                                  'source': 'api',\n",
    "                                   'min_date': '2019-02-01',\n",
    "                                   'max_date': None})\n",
    "  \n",
    "# Add References (as many as needed) if none, just comment it\n",
    "test.add_reference('CITY_COUNCIL', \n",
    "                  fileNameRaw = 'CITY_COUNCIL.csv', \n",
    "                  index = {'name' : 'Time',\n",
    "                           'format' : '%Y-%m-%d %H:%M:%S',\n",
    "                           'frequency' : '15Min'}, \n",
    "                  channels = {'pollutants' : ('CO', 'SO2', 'NO2', 'NO', 'NOX'), \n",
    "                              'units' : ('ppm', 'ppb', 'ppb', 'ppb', 'ppb'),\n",
    "                              'names' : ('CO_ppm', 'SO2_ppb', 'NO2_ppb', 'NO_ppb', 'NOx_ppb')\n",
    "                             },\n",
    "                  location = 'Europe/Dublin')\n",
    "\n",
    "test.add_reference('CITY_COUNCIL_DAY', \n",
    "                  fileNameRaw = 'CITY_COUNCIL_DAY.csv', \n",
    "                  index = {'name' : 'Time',\n",
    "                           'format' : '%d/%m/%Y',\n",
    "                           'frequency' : '1D'}, \n",
    "                  channels = {'pollutants' : ['PM10'], \n",
    "                              'units' : ['ugm3'],\n",
    "                              'names' : ['PM10']\n",
    "                             },\n",
    "                  location = 'Europe/Dublin')\n",
    "\n",
    "# Create folder structure under data subdir\n",
    "newpath = join(rootDirectory, 'data', 'processed', date.strftime('%Y'), date.strftime('%m'), test_id)\n",
    "\n",
    "if not os.path.exists(newpath):\n",
    "    os.makedirs(newpath)\n",
    "\n",
    "# Process the stuff\n",
    "test.process_files(rootDirectory, newpath)"
   ]
  },
  {
   "cell_type": "markdown",
   "metadata": {},
   "source": [
    "## Update Test (TODO)"
   ]
  }
 ],
 "metadata": {
  "kernelspec": {
   "display_name": "Python 3",
   "language": "python",
   "name": "python3"
  },
  "language_info": {
   "codemirror_mode": {
    "name": "ipython",
    "version": 3
   },
   "file_extension": ".py",
   "mimetype": "text/x-python",
   "name": "python",
   "nbconvert_exporter": "python",
   "pygments_lexer": "ipython3",
   "version": "3.6.8"
  },
  "toc": {
   "nav_menu": {},
   "number_sections": true,
   "sideBar": true,
   "skip_h1_title": false,
   "title_cell": "Table of Contents",
   "title_sidebar": "Contents",
   "toc_cell": false,
   "toc_position": {
    "height": "calc(100% - 180px)",
    "left": "10px",
    "top": "150px",
    "width": "178px"
   },
   "toc_section_display": true,
   "toc_window_display": true
  }
 },
 "nbformat": 4,
 "nbformat_minor": 2
}
